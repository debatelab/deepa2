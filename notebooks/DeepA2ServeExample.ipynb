{
  "nbformat": 4,
  "nbformat_minor": 0,
  "metadata": {
    "colab": {
      "name": "DeepA2ServeExample.ipynb",
      "provenance": []
    },
    "kernelspec": {
      "name": "python3",
      "display_name": "Python 3"
    },
    "language_info": {
      "name": "python"
    }
  },
  "cells": [
    {
      "cell_type": "markdown",
      "source": [
        "# Serving Multiangular DeepA2 Dataset as T2T (`csv`)"
      ],
      "metadata": {
        "id": "8VNfJcnKLBGt"
      }
    },
    {
      "cell_type": "markdown",
      "source": [
        "Install `deepa2`:"
      ],
      "metadata": {
        "id": "ltFoMuQQLQZH"
      }
    },
    {
      "cell_type": "code",
      "source": [
        "!pip install deepa2"
      ],
      "metadata": {
        "id": "0bycVy4yyv1L"
      },
      "execution_count": null,
      "outputs": []
    },
    {
      "cell_type": "markdown",
      "source": [
        "Configuration:"
      ],
      "metadata": {
        "id": "QVxoOHJGLULp"
      }
    },
    {
      "cell_type": "code",
      "source": [
        "import yaml\n",
        "\n",
        "config = {\n",
        "    \"sources\": [\n",
        "        {\n",
        "            \"path\": \"debatelab/deepa2\",\n",
        "            \"data_files\": {\n",
        "                \"train\": [\n",
        "                          \"aaac01/train/train.parquet\",\n",
        "                          \"aaac02/train/train.parquet\",\n",
        "                ],\n",
        "                \"validation\": [\n",
        "                          \"aaac01/validation/validation.parquet\",\n",
        "                          \"aaac02/validation/validation.parquet\",\n",
        "                ],\n",
        "                \"test\": [\n",
        "                          \"aaac01/test/test.parquet\",\n",
        "                          \"aaac02/test/test.parquet\",                         \n",
        "                ]\n",
        "            }\n",
        "        },\n",
        "    ],\n",
        "    \"export_format\": \"csv\",\n",
        "    \"export_path\": \"t2t\",\n",
        "    \"generative_modes\": [\n",
        "        {\"name\": \"e => a\"},\n",
        "        {\"name\": \"s => a\"},\n",
        "    ]\n",
        "}\n",
        "\n",
        "with open(r'config.yml', 'w') as file:\n",
        "    yaml.dump(config, file)"
      ],
      "metadata": {
        "id": "cU7zW5y1DKSx"
      },
      "execution_count": null,
      "outputs": []
    },
    {
      "cell_type": "markdown",
      "source": [
        "Serve:"
      ],
      "metadata": {
        "id": "6XmUbIyBLXZU"
      }
    },
    {
      "cell_type": "code",
      "source": [
        "!deepa2 serve --configfile ./config.yml"
      ],
      "metadata": {
        "colab": {
          "base_uri": "https://localhost:8080/"
        },
        "id": "7g1HHKrm4ihO",
        "outputId": "f928e236-e0c6-4a0b-9643-96ea37c6319e"
      },
      "execution_count": null,
      "outputs": [
        {
          "output_type": "stream",
          "name": "stdout",
          "text": [
            "Downloading and preparing dataset parquet/debatelab--deepa2 to /root/.cache/huggingface/datasets/parquet/debatelab--deepa2-0930c15d6717fad0/0.0.0/0b6d5799bb726b24ad7fc7be720c170d8e497f575d02d47537de9a5bac074901...\n",
            "100% 3/3 [00:00<00:00, 4979.39it/s]\n",
            "100% 3/3 [00:00<00:00, 787.56it/s]\n",
            "100% 3/3 [00:00<00:00, 304.96it/s]\n",
            "100% 20000/20000 [00:41<00:00, 480.84ba/s]\n",
            "  5% 4144/80000 [00:08<02:33, 494.64ba/s]"
          ]
        }
      ]
    },
    {
      "cell_type": "markdown",
      "source": [
        "Check:"
      ],
      "metadata": {
        "id": "SaITjUDkLbl-"
      }
    },
    {
      "cell_type": "code",
      "source": [
        "!ls t2t"
      ],
      "metadata": {
        "id": "bGB4JZI0Lhmg"
      },
      "execution_count": null,
      "outputs": []
    }
  ]
}