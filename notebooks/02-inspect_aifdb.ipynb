{
 "cells": [
  {
   "cell_type": "markdown",
   "metadata": {},
   "source": [
    "# Inspecting the AIFDB Datasets"
   ]
  },
  {
   "cell_type": "markdown",
   "metadata": {},
   "source": [
    "## Checking the transformed DeepA2-AIFDB datasets"
   ]
  },
  {
   "cell_type": "code",
   "execution_count": 11,
   "metadata": {},
   "outputs": [],
   "source": [
    "from deepa2datasets.config import data_dir\n",
    "from datasets import Dataset"
   ]
  },
  {
   "cell_type": "code",
   "execution_count": 12,
   "metadata": {},
   "outputs": [
    {
     "data": {
      "text/plain": [
       "True"
      ]
     },
     "execution_count": 12,
     "metadata": {},
     "output_type": "execute_result"
    }
   ],
   "source": [
    "path = (data_dir / \"processed\" / \"moral-maze\" / \"train\" / \"train.parquet\")\n",
    "path = path.resolve()\n",
    "path.exists()"
   ]
  },
  {
   "cell_type": "code",
   "execution_count": 13,
   "metadata": {},
   "outputs": [
    {
     "name": "stderr",
     "output_type": "stream",
     "text": [
      "Using custom data configuration default-e085b69c196c4f22\n"
     ]
    },
    {
     "name": "stdout",
     "output_type": "stream",
     "text": [
      "Downloading and preparing dataset parquet/default to /Users/ggbetz/.cache/huggingface/datasets/parquet/default-e085b69c196c4f22/0.0.0/1638526fd0e8d960534e2155dc54fdff8dce73851f21f031d2fb9c2cf757c121...\n"
     ]
    },
    {
     "name": "stderr",
     "output_type": "stream",
     "text": [
      "100%|██████████| 1/1 [00:00<00:00, 2674.94it/s]\n",
      "100%|██████████| 1/1 [00:00<00:00, 491.37it/s]"
     ]
    },
    {
     "name": "stdout",
     "output_type": "stream",
     "text": [
      "Dataset parquet downloaded and prepared to /Users/ggbetz/.cache/huggingface/datasets/parquet/default-e085b69c196c4f22/0.0.0/1638526fd0e8d960534e2155dc54fdff8dce73851f21f031d2fb9c2cf757c121. Subsequent calls will reuse this data.\n"
     ]
    },
    {
     "name": "stderr",
     "output_type": "stream",
     "text": [
      "\n"
     ]
    }
   ],
   "source": [
    "da2_dataset = Dataset.from_parquet(str(path))"
   ]
  },
  {
   "cell_type": "code",
   "execution_count": 14,
   "metadata": {},
   "outputs": [
    {
     "data": {
      "text/plain": [
       "Dataset({\n",
       "    features: ['premises', 'argument_source', 'title', 'gist', 'source_paraphrase', 'context', 'argdown_reconstruction', 'erroneous_argdown', 'reason_statements', 'conclusion_statements', 'intermediary_conclusion', 'conclusion', 'premises_formalized', 'intermediary_conclusion_formalized', 'conclusion_formalized', 'predicate_placeholders', 'entity_placeholders', 'misc_placeholders', 'distractors', 'metadata'],\n",
       "    num_rows: 136\n",
       "})"
      ]
     },
     "execution_count": 14,
     "metadata": {},
     "output_type": "execute_result"
    }
   ],
   "source": [
    "da2_dataset"
   ]
  },
  {
   "cell_type": "code",
   "execution_count": 15,
   "metadata": {},
   "outputs": [
    {
     "data": {
      "text/plain": [
       "{'premises': None,\n",
       " 'argument_source': \"\\n\\n\\n\\n\\n\\n\\n\\n\\n\\n\\n\\n\\n\\n\\n\\n\\nMT: Of course you have to draw lines,\\nMelanie, but these people are alive and I would say there is both a\\n\\npragmatic and a historic justification.\\nThe pragmatic justification is that they - if they are to take their case\\n\\nagainst anybody, we, this state, the\\nBritish state now, is the closest they can get to it. They can't go back\\n\\nand dig up Macmillan.\\n\\nAM: That's not good enough.\\n\\nMT: Second, there's no question this\\ncountry has benefitted and continues to benefit from the extraction it\\n\\ntook from the British Empire.\\n\\n\",\n",
       " 'title': None,\n",
       " 'gist': None,\n",
       " 'source_paraphrase': \"MT : The pragmatic justification is that they - if they are to take their case against anybody, we, this state, the British state now, is the closest they can get to it. MT : Second, there's no question this country has benefitted and continues to benefit from the extraction it took from the British Empire. Therefore: MT : and I would say there is both a pragmatic and a historic justification\",\n",
       " 'context': None,\n",
       " 'argdown_reconstruction': None,\n",
       " 'erroneous_argdown': None,\n",
       " 'reason_statements': [{'ref_reco': 0,\n",
       "   'starts_at': None,\n",
       "   'text': 'MT : The pragmatic justification is that they - if they are to take their case against anybody, we, this state, the British state now, is the closest they can get to it.'},\n",
       "  {'ref_reco': 1,\n",
       "   'starts_at': None,\n",
       "   'text': \"MT : Second, there's no question this country has benefitted and continues to benefit from the extraction it took from the British Empire.\"}],\n",
       " 'conclusion_statements': [{'ref_reco': 3,\n",
       "   'starts_at': None,\n",
       "   'text': 'MT : and I would say there is both a pragmatic and a historic justification'}],\n",
       " 'intermediary_conclusion': None,\n",
       " 'conclusion': None,\n",
       " 'premises_formalized': None,\n",
       " 'intermediary_conclusion_formalized': None,\n",
       " 'conclusion_formalized': None,\n",
       " 'predicate_placeholders': None,\n",
       " 'entity_placeholders': None,\n",
       " 'misc_placeholders': None,\n",
       " 'distractors': None,\n",
       " 'metadata': {'config': {'sp_template': 'aifdb/source_paraphrase_ra.txt'},\n",
       "  'corpus': 'britishempire',\n",
       "  'type': 'RA'}}"
      ]
     },
     "execution_count": 15,
     "metadata": {},
     "output_type": "execute_result"
    }
   ],
   "source": [
    "da2_dataset[50]"
   ]
  },
  {
   "cell_type": "code",
   "execution_count": null,
   "metadata": {},
   "outputs": [],
   "source": []
  }
 ],
 "metadata": {
  "interpreter": {
   "hash": "aee8b7b246df8f9039afb4144a1f6fd8d2ca17a180786b69acc140d282b71a49"
  },
  "kernelspec": {
   "display_name": "Python 3.9.5 64-bit",
   "language": "python",
   "name": "python3"
  },
  "language_info": {
   "codemirror_mode": {
    "name": "ipython",
    "version": 3
   },
   "file_extension": ".py",
   "mimetype": "text/x-python",
   "name": "python",
   "nbconvert_exporter": "python",
   "pygments_lexer": "ipython3",
   "version": "3.8.5"
  },
  "orig_nbformat": 4
 },
 "nbformat": 4,
 "nbformat_minor": 2
}
