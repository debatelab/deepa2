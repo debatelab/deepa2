{
 "cells": [
  {
   "cell_type": "markdown",
   "metadata": {},
   "source": [
    "# Inspecting the AIFDB Datasets"
   ]
  },
  {
   "cell_type": "markdown",
   "metadata": {},
   "source": [
    "## Checking the transformed DeepA2-AIFDB datasets"
   ]
  },
  {
   "cell_type": "code",
   "execution_count": 1,
   "metadata": {},
   "outputs": [],
   "source": [
    "from deepa2datasets.config import data_dir\n",
    "from datasets import Dataset"
   ]
  },
  {
   "cell_type": "code",
   "execution_count": 2,
   "metadata": {},
   "outputs": [
    {
     "data": {
      "text/plain": [
       "True"
      ]
     },
     "execution_count": 2,
     "metadata": {},
     "output_type": "execute_result"
    }
   ],
   "source": [
    "path = (data_dir / \"processed\" / \"moral-maze\" / \"train\" / \"train.parquet\")\n",
    "path = path.resolve()\n",
    "path.exists()"
   ]
  },
  {
   "cell_type": "code",
   "execution_count": 3,
   "metadata": {},
   "outputs": [
    {
     "name": "stderr",
     "output_type": "stream",
     "text": [
      "Using custom data configuration default-cb168428bcefdc99\n"
     ]
    },
    {
     "name": "stdout",
     "output_type": "stream",
     "text": [
      "Downloading and preparing dataset parquet/default to /Users/ggbetz/.cache/huggingface/datasets/parquet/default-cb168428bcefdc99/0.0.0/1638526fd0e8d960534e2155dc54fdff8dce73851f21f031d2fb9c2cf757c121...\n"
     ]
    },
    {
     "name": "stderr",
     "output_type": "stream",
     "text": [
      "100%|██████████| 1/1 [00:00<00:00, 2922.86it/s]\n",
      "100%|██████████| 1/1 [00:00<00:00, 445.44it/s]"
     ]
    },
    {
     "name": "stdout",
     "output_type": "stream",
     "text": [
      "Dataset parquet downloaded and prepared to /Users/ggbetz/.cache/huggingface/datasets/parquet/default-cb168428bcefdc99/0.0.0/1638526fd0e8d960534e2155dc54fdff8dce73851f21f031d2fb9c2cf757c121. Subsequent calls will reuse this data.\n"
     ]
    },
    {
     "name": "stderr",
     "output_type": "stream",
     "text": [
      "\n"
     ]
    }
   ],
   "source": [
    "da2_dataset = Dataset.from_parquet(str(path))"
   ]
  },
  {
   "cell_type": "code",
   "execution_count": 4,
   "metadata": {},
   "outputs": [
    {
     "data": {
      "text/plain": [
       "Dataset({\n",
       "    features: ['premises', 'source_text', 'title', 'gist', 'source_paraphrase', 'context', 'argdown_reconstruction', 'erroneous_argdown', 'reasons', 'conjectures', 'intermediary_conclusion', 'conclusion', 'premises_formalized', 'intermediary_conclusion_formalized', 'conclusion_formalized', 'predicate_placeholders', 'entity_placeholders', 'misc_placeholders', 'distractors', 'metadata'],\n",
       "    num_rows: 510\n",
       "})"
      ]
     },
     "execution_count": 4,
     "metadata": {},
     "output_type": "execute_result"
    }
   ],
   "source": [
    "da2_dataset"
   ]
  },
  {
   "cell_type": "code",
   "execution_count": 12,
   "metadata": {},
   "outputs": [
    {
     "data": {
      "text/plain": [
       "{'premises': None,\n",
       " 'source_text': '\\n\\n\\n\\n\\n\\n\\n\\n\\n\\n\\n\\n\\n\\n\\n\\n\\nSo can I just then say, I donâ€™t know about you, but\\nI think we all know people who will tell you about some terribly wretched\\nchildhood that theyâ€™ve had. Really horrible things might have happened to them,\\nand theyâ€™ve overcome them. Theyâ€™ve basically not been fated by that, the whole\\nof their future is not being blighted, even though it might have been a\\nhorrible experience. Would you agree that thatâ€™s true?\\n\\n',\n",
       " 'title': None,\n",
       " 'gist': None,\n",
       " 'source_paraphrase': 'They’ve basically not been fated by that In consequence: the whole of their future is not being blighted, even though it might have been a horrible experience',\n",
       " 'context': None,\n",
       " 'argdown_reconstruction': None,\n",
       " 'erroneous_argdown': None,\n",
       " 'reasons': [{'ref_reco': 0,\n",
       "   'starts_at': None,\n",
       "   'text': 'Claire : They’ve basically not been fated by that'}],\n",
       " 'conjectures': [{'ref_reco': 2,\n",
       "   'starts_at': None,\n",
       "   'text': 'Claire : the whole of their future is not being blighted, even though it might have been a horrible experience'}],\n",
       " 'intermediary_conclusion': None,\n",
       " 'conclusion': None,\n",
       " 'premises_formalized': None,\n",
       " 'intermediary_conclusion_formalized': None,\n",
       " 'conclusion_formalized': None,\n",
       " 'predicate_placeholders': None,\n",
       " 'entity_placeholders': None,\n",
       " 'misc_placeholders': None,\n",
       " 'distractors': None,\n",
       " 'metadata': {'config': {'sp_template': 'aifdb/source_paraphrase_ra-02.txt'},\n",
       "  'corpus': 'mm2012a',\n",
       "  'type': 'RA'}}"
      ]
     },
     "execution_count": 12,
     "metadata": {},
     "output_type": "execute_result"
    }
   ],
   "source": [
    "da2_dataset[45]"
   ]
  },
  {
   "cell_type": "code",
   "execution_count": null,
   "metadata": {},
   "outputs": [],
   "source": []
  }
 ],
 "metadata": {
  "interpreter": {
   "hash": "aee8b7b246df8f9039afb4144a1f6fd8d2ca17a180786b69acc140d282b71a49"
  },
  "kernelspec": {
   "display_name": "Python 3.9.5 64-bit",
   "language": "python",
   "name": "python3"
  },
  "language_info": {
   "codemirror_mode": {
    "name": "ipython",
    "version": 3
   },
   "file_extension": ".py",
   "mimetype": "text/x-python",
   "name": "python",
   "nbconvert_exporter": "python",
   "pygments_lexer": "ipython3",
   "version": "3.8.5"
  },
  "orig_nbformat": 4
 },
 "nbformat": 4,
 "nbformat_minor": 2
}
