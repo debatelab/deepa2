{
 "cells": [
  {
   "cell_type": "markdown",
   "metadata": {},
   "source": [
    "# Inspecting the e-SNLI Dataset"
   ]
  },
  {
   "cell_type": "code",
   "execution_count": 40,
   "metadata": {},
   "outputs": [],
   "source": [
    "from datasets import load_dataset\n",
    "import pandas as pd\n",
    "from tqdm import tqdm\n",
    "tqdm.pandas()"
   ]
  },
  {
   "cell_type": "markdown",
   "metadata": {},
   "source": [
    "## Original e-SNLI Data "
   ]
  },
  {
   "cell_type": "code",
   "execution_count": 177,
   "metadata": {},
   "outputs": [
    {
     "name": "stderr",
     "output_type": "stream",
     "text": [
      "Reusing dataset esnli (/Users/ggbetz/.cache/huggingface/datasets/esnli/plain_text/0.0.2/a160e6a02bbb8d828c738918dafec4e7d298782c334b5109af632fec6d779bbc)\n",
      "100%|██████████| 3/3 [00:00<00:00, 442.61it/s]\n"
     ]
    }
   ],
   "source": [
    "dataset = load_dataset(\"esnli\")"
   ]
  },
  {
   "cell_type": "code",
   "execution_count": 184,
   "metadata": {},
   "outputs": [
    {
     "data": {
      "text/plain": [
       "DatasetDict({\n",
       "    train: Dataset({\n",
       "        features: ['premise', 'hypothesis', 'label', 'explanation_1', 'explanation_2', 'explanation_3'],\n",
       "        num_rows: 549367\n",
       "    })\n",
       "    validation: Dataset({\n",
       "        features: ['premise', 'hypothesis', 'label', 'explanation_1', 'explanation_2', 'explanation_3'],\n",
       "        num_rows: 9842\n",
       "    })\n",
       "    test: Dataset({\n",
       "        features: ['premise', 'hypothesis', 'label', 'explanation_1', 'explanation_2', 'explanation_3'],\n",
       "        num_rows: 9824\n",
       "    })\n",
       "})"
      ]
     },
     "execution_count": 184,
     "metadata": {},
     "output_type": "execute_result"
    }
   ],
   "source": [
    "# splits and features\n",
    "dataset"
   ]
  },
  {
   "cell_type": "code",
   "execution_count": 185,
   "metadata": {},
   "outputs": [],
   "source": [
    "df_esnli = dataset[\"train\"].to_pandas()"
   ]
  },
  {
   "cell_type": "code",
   "execution_count": 186,
   "metadata": {},
   "outputs": [
    {
     "data": {
      "text/plain": [
       "1    549085\n",
       "2       141\n",
       "dtype: int64"
      ]
     },
     "execution_count": 186,
     "metadata": {},
     "output_type": "execute_result"
    }
   ],
   "source": [
    "# duplicates? -> yes\n",
    "counts = df_esnli.value_counts()\n",
    "counts.value_counts()"
   ]
  },
  {
   "cell_type": "code",
   "execution_count": 187,
   "metadata": {},
   "outputs": [],
   "source": [
    "df_esnli = df_esnli.drop_duplicates()"
   ]
  },
  {
   "cell_type": "code",
   "execution_count": 188,
   "metadata": {},
   "outputs": [],
   "source": [
    "# does every record have an explanation? > no\n",
    "df_esnli[\"n_explanations\"] = 3-df_esnli[['explanation_1','explanation_2','explanation_3']].eq(\"\").sum(axis=1)"
   ]
  },
  {
   "cell_type": "code",
   "execution_count": 189,
   "metadata": {},
   "outputs": [
    {
     "data": {
      "text/plain": [
       "1    549201\n",
       "0        25\n",
       "Name: n_explanations, dtype: int64"
      ]
     },
     "execution_count": 189,
     "metadata": {},
     "output_type": "execute_result"
    }
   ],
   "source": [
    "df_esnli.n_explanations.value_counts()"
   ]
  },
  {
   "cell_type": "code",
   "execution_count": 190,
   "metadata": {},
   "outputs": [],
   "source": [
    "# drop records with no explanation\n",
    "df_esnli = df_esnli[df_esnli.n_explanations.gt(0)]"
   ]
  },
  {
   "cell_type": "code",
   "execution_count": 191,
   "metadata": {},
   "outputs": [
    {
     "data": {
      "text/plain": [
       "3     141405\n",
       "15      7827\n",
       "2        771\n",
       "6        473\n",
       "14        84\n",
       "12        45\n",
       "5         45\n",
       "9         27\n",
       "18        25\n",
       "4          9\n",
       "30         9\n",
       "21         4\n",
       "27         3\n",
       "1          2\n",
       "13         2\n",
       "33         1\n",
       "24         1\n",
       "11         1\n",
       "dtype: int64"
      ]
     },
     "execution_count": 191,
     "metadata": {},
     "output_type": "execute_result"
    }
   ],
   "source": [
    "# count how frequently premise occurs in the dataset (default = three times)\n",
    "counts = df_esnli.groupby([\"premise\"]).size()\n",
    "counts.value_counts()"
   ]
  },
  {
   "cell_type": "code",
   "execution_count": 192,
   "metadata": {},
   "outputs": [
    {
     "name": "stderr",
     "output_type": "stream",
     "text": [
      "100%|██████████| 549201/549201 [00:01<00:00, 287217.11it/s]\n"
     ]
    }
   ],
   "source": [
    "df_esnli[\"premise_counts\"] = df_esnli.premise.progress_apply(lambda x: counts[x])"
   ]
  },
  {
   "cell_type": "code",
   "execution_count": 193,
   "metadata": {},
   "outputs": [
    {
     "data": {
      "text/plain": [
       "1    548394\n",
       "2       396\n",
       "3         5\n",
       "dtype: int64"
      ]
     },
     "execution_count": 193,
     "metadata": {},
     "output_type": "execute_result"
    }
   ],
   "source": [
    "# count records whose premise-hypothesis occurs in the dataset\n",
    "# these are records with different explanations\n",
    "df_esnli.value_counts(subset=[\"premise\",\"hypothesis\",\"label\"]).value_counts()"
   ]
  },
  {
   "cell_type": "code",
   "execution_count": 194,
   "metadata": {},
   "outputs": [],
   "source": [
    "# drop records whose premise occurs less than 3 times\n",
    "df_esnli = df_esnli[df_esnli.premise_counts.ge(3)]"
   ]
  },
  {
   "cell_type": "markdown",
   "metadata": {},
   "source": [
    "### Process records whose premise occurs more than 3 times"
   ]
  },
  {
   "cell_type": "code",
   "execution_count": 212,
   "metadata": {},
   "outputs": [
    {
     "data": {
      "text/plain": [
       "123442"
      ]
     },
     "execution_count": 212,
     "metadata": {},
     "output_type": "execute_result"
    }
   ],
   "source": [
    "# get all rows whose premise occurs more than 3 times\n",
    "df_esnli_tmp = df_esnli[df_esnli.premise_counts.gt(3)].copy()\n",
    "df_esnli_tmp.reset_index(inplace=True)\n",
    "len(df_esnli_tmp)"
   ]
  },
  {
   "cell_type": "code",
   "execution_count": 214,
   "metadata": {},
   "outputs": [
    {
     "data": {
      "text/html": [
       "<div>\n",
       "<style scoped>\n",
       "    .dataframe tbody tr th:only-of-type {\n",
       "        vertical-align: middle;\n",
       "    }\n",
       "\n",
       "    .dataframe tbody tr th {\n",
       "        vertical-align: top;\n",
       "    }\n",
       "\n",
       "    .dataframe thead th {\n",
       "        text-align: right;\n",
       "    }\n",
       "</style>\n",
       "<table border=\"1\" class=\"dataframe\">\n",
       "  <thead>\n",
       "    <tr style=\"text-align: right;\">\n",
       "      <th>label</th>\n",
       "      <th>0</th>\n",
       "      <th>1</th>\n",
       "      <th>2</th>\n",
       "    </tr>\n",
       "    <tr>\n",
       "      <th>premise</th>\n",
       "      <th></th>\n",
       "      <th></th>\n",
       "      <th></th>\n",
       "    </tr>\n",
       "  </thead>\n",
       "  <tbody>\n",
       "    <tr>\n",
       "      <th>2 Men in a classroom, one standing and one sitting while participating in a discussion.</th>\n",
       "      <td>5.0</td>\n",
       "      <td>5.0</td>\n",
       "      <td>5.0</td>\n",
       "    </tr>\n",
       "    <tr>\n",
       "      <th>2 Older women and a young girl with a red bike.</th>\n",
       "      <td>5.0</td>\n",
       "      <td>5.0</td>\n",
       "      <td>5.0</td>\n",
       "    </tr>\n",
       "    <tr>\n",
       "      <th>2 artists creating a new piece on a table</th>\n",
       "      <td>5.0</td>\n",
       "      <td>5.0</td>\n",
       "      <td>5.0</td>\n",
       "    </tr>\n",
       "    <tr>\n",
       "      <th>2 boys in the foreground in a karate competition and coaches in background looking on with another coach sitting at table.</th>\n",
       "      <td>5.0</td>\n",
       "      <td>5.0</td>\n",
       "      <td>5.0</td>\n",
       "    </tr>\n",
       "    <tr>\n",
       "      <th>2 female babies eating chips.</th>\n",
       "      <td>5.0</td>\n",
       "      <td>5.0</td>\n",
       "      <td>5.0</td>\n",
       "    </tr>\n",
       "    <tr>\n",
       "      <th>...</th>\n",
       "      <td>...</td>\n",
       "      <td>...</td>\n",
       "      <td>...</td>\n",
       "    </tr>\n",
       "    <tr>\n",
       "      <th>two young women are both looking at their cellphones</th>\n",
       "      <td>5.0</td>\n",
       "      <td>5.0</td>\n",
       "      <td>5.0</td>\n",
       "    </tr>\n",
       "    <tr>\n",
       "      <th>woman in helmet showing three small children something in her hands, standing in front of a stone wall.</th>\n",
       "      <td>5.0</td>\n",
       "      <td>5.0</td>\n",
       "      <td>5.0</td>\n",
       "    </tr>\n",
       "    <tr>\n",
       "      <th>women (wearing scarf) driving motorized scooter and man (in the backseat) riding in the busy streets.</th>\n",
       "      <td>5.0</td>\n",
       "      <td>5.0</td>\n",
       "      <td>5.0</td>\n",
       "    </tr>\n",
       "    <tr>\n",
       "      <th>women in a black shirt standing with a bottle of water in hand in front of wall with Greek writing on it.</th>\n",
       "      <td>5.0</td>\n",
       "      <td>5.0</td>\n",
       "      <td>5.0</td>\n",
       "    </tr>\n",
       "    <tr>\n",
       "      <th>young adults posing for a photo at night, somewhat chilly outside.</th>\n",
       "      <td>5.0</td>\n",
       "      <td>5.0</td>\n",
       "      <td>5.0</td>\n",
       "    </tr>\n",
       "  </tbody>\n",
       "</table>\n",
       "<p>8556 rows × 3 columns</p>\n",
       "</div>"
      ],
      "text/plain": [
       "label                                                 0    1    2\n",
       "premise                                                          \n",
       "2 Men in a classroom, one standing and one sitt...  5.0  5.0  5.0\n",
       "2 Older women and a young girl with a red bike.     5.0  5.0  5.0\n",
       "2 artists creating a new piece on a table           5.0  5.0  5.0\n",
       "2 boys in the foreground in a karate competitio...  5.0  5.0  5.0\n",
       "2 female babies eating chips.                       5.0  5.0  5.0\n",
       "...                                                 ...  ...  ...\n",
       "two young women are both looking at their cellp...  5.0  5.0  5.0\n",
       "woman in helmet showing three small children so...  5.0  5.0  5.0\n",
       "women (wearing scarf) driving motorized scooter...  5.0  5.0  5.0\n",
       "women in a black shirt standing with a bottle o...  5.0  5.0  5.0\n",
       "young adults posing for a photo at night, somew...  5.0  5.0  5.0\n",
       "\n",
       "[8556 rows x 3 columns]"
      ]
     },
     "execution_count": 214,
     "metadata": {},
     "output_type": "execute_result"
    }
   ],
   "source": [
    "df2 = df_esnli_tmp.groupby([\"premise\",\"label\"]).size().unstack()\n",
    "df2.fillna(0,inplace=True)\n",
    "df2"
   ]
  },
  {
   "cell_type": "code",
   "execution_count": 215,
   "metadata": {},
   "outputs": [
    {
     "data": {
      "text/plain": [
       "186"
      ]
     },
     "execution_count": 215,
     "metadata": {},
     "output_type": "execute_result"
    }
   ],
   "source": [
    "sum(df2.nunique(axis=1).gt(1))"
   ]
  },
  {
   "cell_type": "code",
   "execution_count": 216,
   "metadata": {},
   "outputs": [
    {
     "data": {
      "text/plain": [
       "premise\n",
       "2 Men in a classroom, one standing and one sitting while participating in a discussion.                                       5.0\n",
       "2 Older women and a young girl with a red bike.                                                                               5.0\n",
       "2 artists creating a new piece on a table                                                                                     5.0\n",
       "2 boys in the foreground in a karate competition and coaches in background looking on with another coach sitting at table.    5.0\n",
       "2 female babies eating chips.                                                                                                 5.0\n",
       "                                                                                                                             ... \n",
       "two young women are both looking at their cellphones                                                                          5.0\n",
       "woman in helmet showing three small children something in her hands, standing in front of a stone wall.                       5.0\n",
       "women (wearing scarf) driving motorized scooter and man (in the backseat) riding in the busy streets.                         5.0\n",
       "women in a black shirt standing with a bottle of water in hand in front of wall with Greek writing on it.                     5.0\n",
       "young adults posing for a photo at night, somewhat chilly outside.                                                            5.0\n",
       "Length: 8556, dtype: float64"
      ]
     },
     "execution_count": 216,
     "metadata": {},
     "output_type": "execute_result"
    }
   ],
   "source": [
    "# df2.min(axis=1) tells us how many records for each premise will go into preprocessed esnli dataset\n",
    "df2.min(axis=1)"
   ]
  },
  {
   "cell_type": "code",
   "execution_count": 217,
   "metadata": {},
   "outputs": [],
   "source": [
    "assert len(df2)==len(set(df_esnli_tmp.premise))"
   ]
  },
  {
   "cell_type": "code",
   "execution_count": 219,
   "metadata": {},
   "outputs": [
    {
     "name": "stderr",
     "output_type": "stream",
     "text": [
      "100%|██████████| 123442/123442 [00:14<00:00, 8742.75it/s]\n"
     ]
    }
   ],
   "source": [
    "df_esnli_tmp[\"min_label_counts\"] = df_esnli_tmp.premise.progress_apply(lambda x: int(df2.min(axis=1)[x]))"
   ]
  },
  {
   "cell_type": "code",
   "execution_count": 220,
   "metadata": {},
   "outputs": [
    {
     "data": {
      "text/html": [
       "<div>\n",
       "<style scoped>\n",
       "    .dataframe tbody tr th:only-of-type {\n",
       "        vertical-align: middle;\n",
       "    }\n",
       "\n",
       "    .dataframe tbody tr th {\n",
       "        vertical-align: top;\n",
       "    }\n",
       "\n",
       "    .dataframe thead th {\n",
       "        text-align: right;\n",
       "    }\n",
       "</style>\n",
       "<table border=\"1\" class=\"dataframe\">\n",
       "  <thead>\n",
       "    <tr style=\"text-align: right;\">\n",
       "      <th></th>\n",
       "      <th>index</th>\n",
       "      <th>premise</th>\n",
       "      <th>hypothesis</th>\n",
       "      <th>label</th>\n",
       "      <th>explanation_1</th>\n",
       "      <th>explanation_2</th>\n",
       "      <th>explanation_3</th>\n",
       "      <th>n_explanations</th>\n",
       "      <th>premise_counts</th>\n",
       "      <th>min_label_counts</th>\n",
       "    </tr>\n",
       "  </thead>\n",
       "  <tbody>\n",
       "    <tr>\n",
       "      <th>0</th>\n",
       "      <td>57</td>\n",
       "      <td>Woman in white in foreground and a man slightl...</td>\n",
       "      <td>The man with the sign is caucasian.</td>\n",
       "      <td>1</td>\n",
       "      <td>Not all men are Caucasian.</td>\n",
       "      <td></td>\n",
       "      <td></td>\n",
       "      <td>1</td>\n",
       "      <td>15</td>\n",
       "      <td>5</td>\n",
       "    </tr>\n",
       "    <tr>\n",
       "      <th>1</th>\n",
       "      <td>58</td>\n",
       "      <td>Woman in white in foreground and a man slightl...</td>\n",
       "      <td>They are protesting outside the capital.</td>\n",
       "      <td>2</td>\n",
       "      <td>One cannot be walking by a sign for John's Piz...</td>\n",
       "      <td></td>\n",
       "      <td></td>\n",
       "      <td>1</td>\n",
       "      <td>15</td>\n",
       "      <td>5</td>\n",
       "    </tr>\n",
       "    <tr>\n",
       "      <th>2</th>\n",
       "      <td>59</td>\n",
       "      <td>Woman in white in foreground and a man slightl...</td>\n",
       "      <td>A woman in white.</td>\n",
       "      <td>0</td>\n",
       "      <td>Woman in white in foreground implies that woma...</td>\n",
       "      <td></td>\n",
       "      <td></td>\n",
       "      <td>1</td>\n",
       "      <td>15</td>\n",
       "      <td>5</td>\n",
       "    </tr>\n",
       "    <tr>\n",
       "      <th>3</th>\n",
       "      <td>60</td>\n",
       "      <td>Woman in white in foreground and a man slightl...</td>\n",
       "      <td>A man is advertising for a restaurant.</td>\n",
       "      <td>0</td>\n",
       "      <td>walking with a sign for John's Pizza and Gyro ...</td>\n",
       "      <td></td>\n",
       "      <td></td>\n",
       "      <td>1</td>\n",
       "      <td>15</td>\n",
       "      <td>5</td>\n",
       "    </tr>\n",
       "    <tr>\n",
       "      <th>4</th>\n",
       "      <td>61</td>\n",
       "      <td>Woman in white in foreground and a man slightl...</td>\n",
       "      <td>The woman is wearing black.</td>\n",
       "      <td>2</td>\n",
       "      <td>The woman is in either white or black.</td>\n",
       "      <td></td>\n",
       "      <td></td>\n",
       "      <td>1</td>\n",
       "      <td>15</td>\n",
       "      <td>5</td>\n",
       "    </tr>\n",
       "  </tbody>\n",
       "</table>\n",
       "</div>"
      ],
      "text/plain": [
       "   index                                            premise  \\\n",
       "0     57  Woman in white in foreground and a man slightl...   \n",
       "1     58  Woman in white in foreground and a man slightl...   \n",
       "2     59  Woman in white in foreground and a man slightl...   \n",
       "3     60  Woman in white in foreground and a man slightl...   \n",
       "4     61  Woman in white in foreground and a man slightl...   \n",
       "\n",
       "                                 hypothesis  label  \\\n",
       "0       The man with the sign is caucasian.      1   \n",
       "1  They are protesting outside the capital.      2   \n",
       "2                         A woman in white.      0   \n",
       "3    A man is advertising for a restaurant.      0   \n",
       "4               The woman is wearing black.      2   \n",
       "\n",
       "                                       explanation_1 explanation_2  \\\n",
       "0                         Not all men are Caucasian.                 \n",
       "1  One cannot be walking by a sign for John's Piz...                 \n",
       "2  Woman in white in foreground implies that woma...                 \n",
       "3  walking with a sign for John's Pizza and Gyro ...                 \n",
       "4             The woman is in either white or black.                 \n",
       "\n",
       "  explanation_3  n_explanations  premise_counts  min_label_counts  \n",
       "0                             1              15                 5  \n",
       "1                             1              15                 5  \n",
       "2                             1              15                 5  \n",
       "3                             1              15                 5  \n",
       "4                             1              15                 5  "
      ]
     },
     "execution_count": 220,
     "metadata": {},
     "output_type": "execute_result"
    }
   ],
   "source": [
    "df_esnli_tmp.head()"
   ]
  },
  {
   "cell_type": "code",
   "execution_count": 221,
   "metadata": {},
   "outputs": [
    {
     "data": {
      "text/plain": [
       "0"
      ]
     },
     "execution_count": 221,
     "metadata": {},
     "output_type": "execute_result"
    }
   ],
   "source": [
    "sum(df_esnli_tmp.premise_counts.lt(3*df_esnli_tmp.min_label_counts))"
   ]
  },
  {
   "cell_type": "code",
   "execution_count": 222,
   "metadata": {},
   "outputs": [
    {
     "data": {
      "text/html": [
       "<div>\n",
       "<style scoped>\n",
       "    .dataframe tbody tr th:only-of-type {\n",
       "        vertical-align: middle;\n",
       "    }\n",
       "\n",
       "    .dataframe tbody tr th {\n",
       "        vertical-align: top;\n",
       "    }\n",
       "\n",
       "    .dataframe thead th {\n",
       "        text-align: right;\n",
       "    }\n",
       "</style>\n",
       "<table border=\"1\" class=\"dataframe\">\n",
       "  <thead>\n",
       "    <tr style=\"text-align: right;\">\n",
       "      <th></th>\n",
       "      <th>index</th>\n",
       "      <th>premise</th>\n",
       "      <th>hypothesis</th>\n",
       "      <th>label</th>\n",
       "      <th>explanation_1</th>\n",
       "      <th>explanation_2</th>\n",
       "      <th>explanation_3</th>\n",
       "      <th>n_explanations</th>\n",
       "      <th>premise_counts</th>\n",
       "      <th>min_label_counts</th>\n",
       "    </tr>\n",
       "  </thead>\n",
       "  <tbody>\n",
       "  </tbody>\n",
       "</table>\n",
       "</div>"
      ],
      "text/plain": [
       "Empty DataFrame\n",
       "Columns: [index, premise, hypothesis, label, explanation_1, explanation_2, explanation_3, n_explanations, premise_counts, min_label_counts]\n",
       "Index: []"
      ]
     },
     "execution_count": 222,
     "metadata": {},
     "output_type": "execute_result"
    }
   ],
   "source": [
    "df_esnli_tmp[df_esnli_tmp.premise_counts.lt(3*df_esnli_tmp.min_label_counts)]"
   ]
  },
  {
   "cell_type": "code",
   "execution_count": 223,
   "metadata": {},
   "outputs": [
    {
     "data": {
      "text/plain": [
       "0"
      ]
     },
     "execution_count": 223,
     "metadata": {},
     "output_type": "execute_result"
    }
   ],
   "source": [
    "sum(df_esnli_tmp.groupby([\"premise\"]).size() != df_esnli_tmp.groupby([\"premise\"]).first()[\"premise_counts\"])"
   ]
  },
  {
   "cell_type": "code",
   "execution_count": 224,
   "metadata": {},
   "outputs": [
    {
     "name": "stderr",
     "output_type": "stream",
     "text": [
      "100%|██████████| 25667/25667 [00:12<00:00, 2113.46it/s]\n"
     ]
    },
    {
     "data": {
      "text/html": [
       "<div>\n",
       "<style scoped>\n",
       "    .dataframe tbody tr th:only-of-type {\n",
       "        vertical-align: middle;\n",
       "    }\n",
       "\n",
       "    .dataframe tbody tr th {\n",
       "        vertical-align: top;\n",
       "    }\n",
       "\n",
       "    .dataframe thead th {\n",
       "        text-align: right;\n",
       "    }\n",
       "</style>\n",
       "<table border=\"1\" class=\"dataframe\">\n",
       "  <thead>\n",
       "    <tr style=\"text-align: right;\">\n",
       "      <th></th>\n",
       "      <th></th>\n",
       "      <th>index</th>\n",
       "      <th>premise</th>\n",
       "      <th>hypothesis</th>\n",
       "      <th>label</th>\n",
       "      <th>explanation_1</th>\n",
       "      <th>explanation_2</th>\n",
       "      <th>explanation_3</th>\n",
       "      <th>n_explanations</th>\n",
       "      <th>premise_counts</th>\n",
       "      <th>min_label_counts</th>\n",
       "    </tr>\n",
       "  </thead>\n",
       "  <tbody>\n",
       "    <tr>\n",
       "      <th rowspan=\"5\" valign=\"top\">0</th>\n",
       "      <th>113486</th>\n",
       "      <td>503395</td>\n",
       "      <td>2 Men in a classroom, one standing and one sit...</td>\n",
       "      <td>There are two men in a classroom talking.</td>\n",
       "      <td>0</td>\n",
       "      <td>The 2 men are participating in a discussion in...</td>\n",
       "      <td></td>\n",
       "      <td></td>\n",
       "      <td>1</td>\n",
       "      <td>15</td>\n",
       "      <td>5</td>\n",
       "    </tr>\n",
       "    <tr>\n",
       "      <th>113492</th>\n",
       "      <td>503401</td>\n",
       "      <td>2 Men in a classroom, one standing and one sit...</td>\n",
       "      <td>Two men are participating in class.</td>\n",
       "      <td>0</td>\n",
       "      <td>The two men are participating in a discussion ...</td>\n",
       "      <td></td>\n",
       "      <td></td>\n",
       "      <td>1</td>\n",
       "      <td>15</td>\n",
       "      <td>5</td>\n",
       "    </tr>\n",
       "    <tr>\n",
       "      <th>113494</th>\n",
       "      <td>503403</td>\n",
       "      <td>2 Men in a classroom, one standing and one sit...</td>\n",
       "      <td>2 men are sitting and standing in a classroom ...</td>\n",
       "      <td>0</td>\n",
       "      <td>\"2 men sitting and standing and taking part in...</td>\n",
       "      <td></td>\n",
       "      <td></td>\n",
       "      <td>1</td>\n",
       "      <td>15</td>\n",
       "      <td>5</td>\n",
       "    </tr>\n",
       "    <tr>\n",
       "      <th>113496</th>\n",
       "      <td>503405</td>\n",
       "      <td>2 Men in a classroom, one standing and one sit...</td>\n",
       "      <td>Two people discuss something as one stands and...</td>\n",
       "      <td>0</td>\n",
       "      <td>\"Two people discuss something as one stands an...</td>\n",
       "      <td></td>\n",
       "      <td></td>\n",
       "      <td>1</td>\n",
       "      <td>15</td>\n",
       "      <td>5</td>\n",
       "    </tr>\n",
       "    <tr>\n",
       "      <th>113497</th>\n",
       "      <td>503406</td>\n",
       "      <td>2 Men in a classroom, one standing and one sit...</td>\n",
       "      <td>Two men are in a classroom participating in a ...</td>\n",
       "      <td>0</td>\n",
       "      <td>\"Two men are in a classroom participating in a...</td>\n",
       "      <td></td>\n",
       "      <td></td>\n",
       "      <td>1</td>\n",
       "      <td>15</td>\n",
       "      <td>5</td>\n",
       "    </tr>\n",
       "    <tr>\n",
       "      <th>...</th>\n",
       "      <th>...</th>\n",
       "      <td>...</td>\n",
       "      <td>...</td>\n",
       "      <td>...</td>\n",
       "      <td>...</td>\n",
       "      <td>...</td>\n",
       "      <td>...</td>\n",
       "      <td>...</td>\n",
       "      <td>...</td>\n",
       "      <td>...</td>\n",
       "      <td>...</td>\n",
       "    </tr>\n",
       "    <tr>\n",
       "      <th rowspan=\"5\" valign=\"top\">25666</th>\n",
       "      <th>122653</th>\n",
       "      <td>546380</td>\n",
       "      <td>young adults posing for a photo at night, some...</td>\n",
       "      <td>A group of people are having a sleepover.</td>\n",
       "      <td>2</td>\n",
       "      <td>Posing for a photo at night implies being outs...</td>\n",
       "      <td></td>\n",
       "      <td></td>\n",
       "      <td>1</td>\n",
       "      <td>15</td>\n",
       "      <td>5</td>\n",
       "    </tr>\n",
       "    <tr>\n",
       "      <th>122655</th>\n",
       "      <td>546382</td>\n",
       "      <td>young adults posing for a photo at night, some...</td>\n",
       "      <td>Elderly people pose for a photo.</td>\n",
       "      <td>2</td>\n",
       "      <td>Young adults are not elderly adults.</td>\n",
       "      <td></td>\n",
       "      <td></td>\n",
       "      <td>1</td>\n",
       "      <td>15</td>\n",
       "      <td>5</td>\n",
       "    </tr>\n",
       "    <tr>\n",
       "      <th>122657</th>\n",
       "      <td>546384</td>\n",
       "      <td>young adults posing for a photo at night, some...</td>\n",
       "      <td>The beach is aflame with exploding missiles.</td>\n",
       "      <td>2</td>\n",
       "      <td>Adults posing doesn't suggest that a beach is ...</td>\n",
       "      <td></td>\n",
       "      <td></td>\n",
       "      <td>1</td>\n",
       "      <td>15</td>\n",
       "      <td>5</td>\n",
       "    </tr>\n",
       "    <tr>\n",
       "      <th>122660</th>\n",
       "      <td>546387</td>\n",
       "      <td>young adults posing for a photo at night, some...</td>\n",
       "      <td>They are warm</td>\n",
       "      <td>2</td>\n",
       "      <td>It is chilly so the adults are not likely warm.</td>\n",
       "      <td></td>\n",
       "      <td></td>\n",
       "      <td>1</td>\n",
       "      <td>15</td>\n",
       "      <td>5</td>\n",
       "    </tr>\n",
       "    <tr>\n",
       "      <th>122663</th>\n",
       "      <td>546390</td>\n",
       "      <td>young adults posing for a photo at night, some...</td>\n",
       "      <td>People are sweating near some palm trees durin...</td>\n",
       "      <td>2</td>\n",
       "      <td>Sweating suggests hot rather than chilly and n...</td>\n",
       "      <td></td>\n",
       "      <td></td>\n",
       "      <td>1</td>\n",
       "      <td>15</td>\n",
       "      <td>5</td>\n",
       "    </tr>\n",
       "  </tbody>\n",
       "</table>\n",
       "<p>123033 rows × 10 columns</p>\n",
       "</div>"
      ],
      "text/plain": [
       "               index                                            premise  \\\n",
       "0     113486  503395  2 Men in a classroom, one standing and one sit...   \n",
       "      113492  503401  2 Men in a classroom, one standing and one sit...   \n",
       "      113494  503403  2 Men in a classroom, one standing and one sit...   \n",
       "      113496  503405  2 Men in a classroom, one standing and one sit...   \n",
       "      113497  503406  2 Men in a classroom, one standing and one sit...   \n",
       "...              ...                                                ...   \n",
       "25666 122653  546380  young adults posing for a photo at night, some...   \n",
       "      122655  546382  young adults posing for a photo at night, some...   \n",
       "      122657  546384  young adults posing for a photo at night, some...   \n",
       "      122660  546387  young adults posing for a photo at night, some...   \n",
       "      122663  546390  young adults posing for a photo at night, some...   \n",
       "\n",
       "                                                     hypothesis  label  \\\n",
       "0     113486          There are two men in a classroom talking.      0   \n",
       "      113492                Two men are participating in class.      0   \n",
       "      113494  2 men are sitting and standing in a classroom ...      0   \n",
       "      113496  Two people discuss something as one stands and...      0   \n",
       "      113497  Two men are in a classroom participating in a ...      0   \n",
       "...                                                         ...    ...   \n",
       "25666 122653          A group of people are having a sleepover.      2   \n",
       "      122655                   Elderly people pose for a photo.      2   \n",
       "      122657       The beach is aflame with exploding missiles.      2   \n",
       "      122660                                      They are warm      2   \n",
       "      122663  People are sweating near some palm trees durin...      2   \n",
       "\n",
       "                                                  explanation_1 explanation_2  \\\n",
       "0     113486  The 2 men are participating in a discussion in...                 \n",
       "      113492  The two men are participating in a discussion ...                 \n",
       "      113494  \"2 men sitting and standing and taking part in...                 \n",
       "      113496  \"Two people discuss something as one stands an...                 \n",
       "      113497  \"Two men are in a classroom participating in a...                 \n",
       "...                                                         ...           ...   \n",
       "25666 122653  Posing for a photo at night implies being outs...                 \n",
       "      122655               Young adults are not elderly adults.                 \n",
       "      122657  Adults posing doesn't suggest that a beach is ...                 \n",
       "      122660    It is chilly so the adults are not likely warm.                 \n",
       "      122663  Sweating suggests hot rather than chilly and n...                 \n",
       "\n",
       "             explanation_3  n_explanations  premise_counts  min_label_counts  \n",
       "0     113486                             1              15                 5  \n",
       "      113492                             1              15                 5  \n",
       "      113494                             1              15                 5  \n",
       "      113496                             1              15                 5  \n",
       "      113497                             1              15                 5  \n",
       "...                    ...             ...             ...               ...  \n",
       "25666 122653                             1              15                 5  \n",
       "      122655                             1              15                 5  \n",
       "      122657                             1              15                 5  \n",
       "      122660                             1              15                 5  \n",
       "      122663                             1              15                 5  \n",
       "\n",
       "[123033 rows x 10 columns]"
      ]
     },
     "execution_count": 224,
     "metadata": {},
     "output_type": "execute_result"
    }
   ],
   "source": [
    "# make sure that for each premise, we have the same number of records for labels 0,1,2\n",
    "df_esnli_tmp = df_esnli_tmp.groupby([\"premise\",\"label\"],as_index=False).progress_apply(lambda x: x.iloc[:x.min_label_counts.iloc[0]])\n",
    "df_esnli_tmp"
   ]
  },
  {
   "cell_type": "code",
   "execution_count": 225,
   "metadata": {},
   "outputs": [
    {
     "name": "stderr",
     "output_type": "stream",
     "text": [
      "100%|██████████| 8555/8555 [00:23<00:00, 365.61it/s]\n"
     ]
    },
    {
     "data": {
      "text/html": [
       "<div>\n",
       "<style scoped>\n",
       "    .dataframe tbody tr th:only-of-type {\n",
       "        vertical-align: middle;\n",
       "    }\n",
       "\n",
       "    .dataframe tbody tr th {\n",
       "        vertical-align: top;\n",
       "    }\n",
       "\n",
       "    .dataframe thead th {\n",
       "        text-align: right;\n",
       "    }\n",
       "</style>\n",
       "<table border=\"1\" class=\"dataframe\">\n",
       "  <thead>\n",
       "    <tr style=\"text-align: right;\">\n",
       "      <th></th>\n",
       "      <th></th>\n",
       "      <th></th>\n",
       "      <th>index</th>\n",
       "      <th>premise</th>\n",
       "      <th>hypothesis</th>\n",
       "      <th>label</th>\n",
       "      <th>explanation_1</th>\n",
       "      <th>explanation_2</th>\n",
       "      <th>explanation_3</th>\n",
       "      <th>n_explanations</th>\n",
       "      <th>premise_counts</th>\n",
       "      <th>min_label_counts</th>\n",
       "    </tr>\n",
       "    <tr>\n",
       "      <th></th>\n",
       "      <th>label</th>\n",
       "      <th></th>\n",
       "      <th></th>\n",
       "      <th></th>\n",
       "      <th></th>\n",
       "      <th></th>\n",
       "      <th></th>\n",
       "      <th></th>\n",
       "      <th></th>\n",
       "      <th></th>\n",
       "      <th></th>\n",
       "      <th></th>\n",
       "    </tr>\n",
       "  </thead>\n",
       "  <tbody>\n",
       "    <tr>\n",
       "      <th rowspan=\"5\" valign=\"top\">0</th>\n",
       "      <th>0</th>\n",
       "      <th>0</th>\n",
       "      <td>503395</td>\n",
       "      <td>2 Men in a classroom, one standing and one sit...</td>\n",
       "      <td>There are two men in a classroom talking.</td>\n",
       "      <td>0</td>\n",
       "      <td>The 2 men are participating in a discussion in...</td>\n",
       "      <td></td>\n",
       "      <td></td>\n",
       "      <td>1</td>\n",
       "      <td>15</td>\n",
       "      <td>5</td>\n",
       "    </tr>\n",
       "    <tr>\n",
       "      <th>1</th>\n",
       "      <th>0</th>\n",
       "      <td>503396</td>\n",
       "      <td>2 Men in a classroom, one standing and one sit...</td>\n",
       "      <td>Two men are sitting in a class room next to ea...</td>\n",
       "      <td>1</td>\n",
       "      <td>They can be in a room together and not next to...</td>\n",
       "      <td></td>\n",
       "      <td></td>\n",
       "      <td>1</td>\n",
       "      <td>15</td>\n",
       "      <td>5</td>\n",
       "    </tr>\n",
       "    <tr>\n",
       "      <th>2</th>\n",
       "      <th>0</th>\n",
       "      <td>503397</td>\n",
       "      <td>2 Men in a classroom, one standing and one sit...</td>\n",
       "      <td>Two men are attacking each other in a classroom.</td>\n",
       "      <td>2</td>\n",
       "      <td>Men attacking each other are not participating...</td>\n",
       "      <td></td>\n",
       "      <td></td>\n",
       "      <td>1</td>\n",
       "      <td>15</td>\n",
       "      <td>5</td>\n",
       "    </tr>\n",
       "    <tr>\n",
       "      <th>0</th>\n",
       "      <th>1</th>\n",
       "      <td>503401</td>\n",
       "      <td>2 Men in a classroom, one standing and one sit...</td>\n",
       "      <td>Two men are participating in class.</td>\n",
       "      <td>0</td>\n",
       "      <td>The two men are participating in a discussion ...</td>\n",
       "      <td></td>\n",
       "      <td></td>\n",
       "      <td>1</td>\n",
       "      <td>15</td>\n",
       "      <td>5</td>\n",
       "    </tr>\n",
       "    <tr>\n",
       "      <th>1</th>\n",
       "      <th>1</th>\n",
       "      <td>503398</td>\n",
       "      <td>2 Men in a classroom, one standing and one sit...</td>\n",
       "      <td>There are two men in a classroom, and one of t...</td>\n",
       "      <td>1</td>\n",
       "      <td>Nothing indicates that there is an oak roll to...</td>\n",
       "      <td></td>\n",
       "      <td></td>\n",
       "      <td>1</td>\n",
       "      <td>15</td>\n",
       "      <td>5</td>\n",
       "    </tr>\n",
       "    <tr>\n",
       "      <th>...</th>\n",
       "      <th>...</th>\n",
       "      <th>...</th>\n",
       "      <td>...</td>\n",
       "      <td>...</td>\n",
       "      <td>...</td>\n",
       "      <td>...</td>\n",
       "      <td>...</td>\n",
       "      <td>...</td>\n",
       "      <td>...</td>\n",
       "      <td>...</td>\n",
       "      <td>...</td>\n",
       "      <td>...</td>\n",
       "    </tr>\n",
       "    <tr>\n",
       "      <th rowspan=\"5\" valign=\"top\">8554</th>\n",
       "      <th>1</th>\n",
       "      <th>3</th>\n",
       "      <td>546391</td>\n",
       "      <td>young adults posing for a photo at night, some...</td>\n",
       "      <td>People smile for the camera.</td>\n",
       "      <td>1</td>\n",
       "      <td>We don't know that people smile.</td>\n",
       "      <td></td>\n",
       "      <td></td>\n",
       "      <td>1</td>\n",
       "      <td>15</td>\n",
       "      <td>5</td>\n",
       "    </tr>\n",
       "    <tr>\n",
       "      <th>2</th>\n",
       "      <th>3</th>\n",
       "      <td>546387</td>\n",
       "      <td>young adults posing for a photo at night, some...</td>\n",
       "      <td>They are warm</td>\n",
       "      <td>2</td>\n",
       "      <td>It is chilly so the adults are not likely warm.</td>\n",
       "      <td></td>\n",
       "      <td></td>\n",
       "      <td>1</td>\n",
       "      <td>15</td>\n",
       "      <td>5</td>\n",
       "    </tr>\n",
       "    <tr>\n",
       "      <th>0</th>\n",
       "      <th>4</th>\n",
       "      <td>546388</td>\n",
       "      <td>young adults posing for a photo at night, some...</td>\n",
       "      <td>People are taking a photo outside in the cold.</td>\n",
       "      <td>0</td>\n",
       "      <td>In a both sentence  adults posing a photo outs...</td>\n",
       "      <td></td>\n",
       "      <td></td>\n",
       "      <td>1</td>\n",
       "      <td>15</td>\n",
       "      <td>5</td>\n",
       "    </tr>\n",
       "    <tr>\n",
       "      <th>1</th>\n",
       "      <th>4</th>\n",
       "      <td>546392</td>\n",
       "      <td>young adults posing for a photo at night, some...</td>\n",
       "      <td>The young adults are outside</td>\n",
       "      <td>1</td>\n",
       "      <td>The young adults are posing for a photo and it...</td>\n",
       "      <td></td>\n",
       "      <td></td>\n",
       "      <td>1</td>\n",
       "      <td>15</td>\n",
       "      <td>5</td>\n",
       "    </tr>\n",
       "    <tr>\n",
       "      <th>2</th>\n",
       "      <th>4</th>\n",
       "      <td>546390</td>\n",
       "      <td>young adults posing for a photo at night, some...</td>\n",
       "      <td>People are sweating near some palm trees durin...</td>\n",
       "      <td>2</td>\n",
       "      <td>Sweating suggests hot rather than chilly and n...</td>\n",
       "      <td></td>\n",
       "      <td></td>\n",
       "      <td>1</td>\n",
       "      <td>15</td>\n",
       "      <td>5</td>\n",
       "    </tr>\n",
       "  </tbody>\n",
       "</table>\n",
       "<p>123033 rows × 10 columns</p>\n",
       "</div>"
      ],
      "text/plain": [
       "               index                                            premise  \\\n",
       "     label                                                                \n",
       "0    0     0  503395  2 Men in a classroom, one standing and one sit...   \n",
       "     1     0  503396  2 Men in a classroom, one standing and one sit...   \n",
       "     2     0  503397  2 Men in a classroom, one standing and one sit...   \n",
       "     0     1  503401  2 Men in a classroom, one standing and one sit...   \n",
       "     1     1  503398  2 Men in a classroom, one standing and one sit...   \n",
       "...              ...                                                ...   \n",
       "8554 1     3  546391  young adults posing for a photo at night, some...   \n",
       "     2     3  546387  young adults posing for a photo at night, some...   \n",
       "     0     4  546388  young adults posing for a photo at night, some...   \n",
       "     1     4  546392  young adults posing for a photo at night, some...   \n",
       "     2     4  546390  young adults posing for a photo at night, some...   \n",
       "\n",
       "                                                     hypothesis  label  \\\n",
       "     label                                                               \n",
       "0    0     0          There are two men in a classroom talking.      0   \n",
       "     1     0  Two men are sitting in a class room next to ea...      1   \n",
       "     2     0   Two men are attacking each other in a classroom.      2   \n",
       "     0     1                Two men are participating in class.      0   \n",
       "     1     1  There are two men in a classroom, and one of t...      1   \n",
       "...                                                         ...    ...   \n",
       "8554 1     3                       People smile for the camera.      1   \n",
       "     2     3                                      They are warm      2   \n",
       "     0     4     People are taking a photo outside in the cold.      0   \n",
       "     1     4                       The young adults are outside      1   \n",
       "     2     4  People are sweating near some palm trees durin...      2   \n",
       "\n",
       "                                                  explanation_1 explanation_2  \\\n",
       "     label                                                                      \n",
       "0    0     0  The 2 men are participating in a discussion in...                 \n",
       "     1     0  They can be in a room together and not next to...                 \n",
       "     2     0  Men attacking each other are not participating...                 \n",
       "     0     1  The two men are participating in a discussion ...                 \n",
       "     1     1  Nothing indicates that there is an oak roll to...                 \n",
       "...                                                         ...           ...   \n",
       "8554 1     3                   We don't know that people smile.                 \n",
       "     2     3    It is chilly so the adults are not likely warm.                 \n",
       "     0     4  In a both sentence  adults posing a photo outs...                 \n",
       "     1     4  The young adults are posing for a photo and it...                 \n",
       "     2     4  Sweating suggests hot rather than chilly and n...                 \n",
       "\n",
       "             explanation_3  n_explanations  premise_counts  min_label_counts  \n",
       "     label                                                                    \n",
       "0    0     0                             1              15                 5  \n",
       "     1     0                             1              15                 5  \n",
       "     2     0                             1              15                 5  \n",
       "     0     1                             1              15                 5  \n",
       "     1     1                             1              15                 5  \n",
       "...                    ...             ...             ...               ...  \n",
       "8554 1     3                             1              15                 5  \n",
       "     2     3                             1              15                 5  \n",
       "     0     4                             1              15                 5  \n",
       "     1     4                             1              15                 5  \n",
       "     2     4                             1              15                 5  \n",
       "\n",
       "[123033 rows x 10 columns]"
      ]
     },
     "execution_count": 225,
     "metadata": {},
     "output_type": "execute_result"
    }
   ],
   "source": [
    "def reorder_premise_group(pg):\n",
    "    return pg.groupby(\"label\").apply(lambda g: g.reset_index(drop=True)).sort_index(level=1)\n",
    "df_esnli_tmp = df_esnli_tmp.groupby([\"premise\"],as_index=False).progress_apply(reorder_premise_group)\n",
    "df_esnli_tmp"
   ]
  },
  {
   "cell_type": "code",
   "execution_count": 226,
   "metadata": {},
   "outputs": [
    {
     "data": {
      "text/plain": [
       "5     117420\n",
       "2       2658\n",
       "4       1500\n",
       "6        432\n",
       "3        270\n",
       "10       270\n",
       "1        261\n",
       "7         84\n",
       "9         81\n",
       "11        33\n",
       "8         24\n",
       "Name: min_label_counts, dtype: int64"
      ]
     },
     "execution_count": 226,
     "metadata": {},
     "output_type": "execute_result"
    }
   ],
   "source": [
    "df_esnli_tmp.min_label_counts.value_counts()"
   ]
  },
  {
   "cell_type": "code",
   "execution_count": 227,
   "metadata": {},
   "outputs": [
    {
     "data": {
      "text/plain": [
       "0    41011\n",
       "1    41011\n",
       "2    41011\n",
       "Name: label, dtype: int64"
      ]
     },
     "execution_count": 227,
     "metadata": {},
     "output_type": "execute_result"
    }
   ],
   "source": [
    "# equal number of labels?\n",
    "df_esnli_tmp.label.value_counts()"
   ]
  },
  {
   "cell_type": "markdown",
   "metadata": {},
   "source": [
    "### Process records whose premise occurs exactly 3 times"
   ]
  },
  {
   "cell_type": "code",
   "execution_count": 228,
   "metadata": {},
   "outputs": [
    {
     "data": {
      "text/html": [
       "<div>\n",
       "<style scoped>\n",
       "    .dataframe tbody tr th:only-of-type {\n",
       "        vertical-align: middle;\n",
       "    }\n",
       "\n",
       "    .dataframe tbody tr th {\n",
       "        vertical-align: top;\n",
       "    }\n",
       "\n",
       "    .dataframe thead th {\n",
       "        text-align: right;\n",
       "    }\n",
       "</style>\n",
       "<table border=\"1\" class=\"dataframe\">\n",
       "  <thead>\n",
       "    <tr style=\"text-align: right;\">\n",
       "      <th></th>\n",
       "      <th>premise</th>\n",
       "      <th>hypothesis</th>\n",
       "      <th>label</th>\n",
       "      <th>explanation_1</th>\n",
       "      <th>explanation_2</th>\n",
       "      <th>explanation_3</th>\n",
       "      <th>n_explanations</th>\n",
       "      <th>premise_counts</th>\n",
       "    </tr>\n",
       "  </thead>\n",
       "  <tbody>\n",
       "    <tr>\n",
       "      <th>0</th>\n",
       "      <td>A person on a horse jumps over a broken down a...</td>\n",
       "      <td>A person is training his horse for a competition.</td>\n",
       "      <td>1</td>\n",
       "      <td>the person is not necessarily training his horse</td>\n",
       "      <td></td>\n",
       "      <td></td>\n",
       "      <td>1</td>\n",
       "      <td>3</td>\n",
       "    </tr>\n",
       "    <tr>\n",
       "      <th>1</th>\n",
       "      <td>A person on a horse jumps over a broken down a...</td>\n",
       "      <td>A person is at a diner, ordering an omelette.</td>\n",
       "      <td>2</td>\n",
       "      <td>One cannot be on a jumping horse cannot be a d...</td>\n",
       "      <td></td>\n",
       "      <td></td>\n",
       "      <td>1</td>\n",
       "      <td>3</td>\n",
       "    </tr>\n",
       "    <tr>\n",
       "      <th>2</th>\n",
       "      <td>A person on a horse jumps over a broken down a...</td>\n",
       "      <td>A person is outdoors, on a horse.</td>\n",
       "      <td>0</td>\n",
       "      <td>a broken down airplane is outdoors</td>\n",
       "      <td></td>\n",
       "      <td></td>\n",
       "      <td>1</td>\n",
       "      <td>3</td>\n",
       "    </tr>\n",
       "    <tr>\n",
       "      <th>3</th>\n",
       "      <td>Children smiling and waving at camera</td>\n",
       "      <td>They are smiling at their parents</td>\n",
       "      <td>1</td>\n",
       "      <td>Just because they are smiling and waving at a ...</td>\n",
       "      <td></td>\n",
       "      <td></td>\n",
       "      <td>1</td>\n",
       "      <td>3</td>\n",
       "    </tr>\n",
       "    <tr>\n",
       "      <th>4</th>\n",
       "      <td>Children smiling and waving at camera</td>\n",
       "      <td>There are children present</td>\n",
       "      <td>0</td>\n",
       "      <td>The children must be present to see them smili...</td>\n",
       "      <td></td>\n",
       "      <td></td>\n",
       "      <td>1</td>\n",
       "      <td>3</td>\n",
       "    </tr>\n",
       "  </tbody>\n",
       "</table>\n",
       "</div>"
      ],
      "text/plain": [
       "                                             premise  \\\n",
       "0  A person on a horse jumps over a broken down a...   \n",
       "1  A person on a horse jumps over a broken down a...   \n",
       "2  A person on a horse jumps over a broken down a...   \n",
       "3              Children smiling and waving at camera   \n",
       "4              Children smiling and waving at camera   \n",
       "\n",
       "                                          hypothesis  label  \\\n",
       "0  A person is training his horse for a competition.      1   \n",
       "1      A person is at a diner, ordering an omelette.      2   \n",
       "2                  A person is outdoors, on a horse.      0   \n",
       "3                  They are smiling at their parents      1   \n",
       "4                         There are children present      0   \n",
       "\n",
       "                                       explanation_1 explanation_2  \\\n",
       "0   the person is not necessarily training his horse                 \n",
       "1  One cannot be on a jumping horse cannot be a d...                 \n",
       "2                 a broken down airplane is outdoors                 \n",
       "3  Just because they are smiling and waving at a ...                 \n",
       "4  The children must be present to see them smili...                 \n",
       "\n",
       "  explanation_3  n_explanations  premise_counts  \n",
       "0                             1               3  \n",
       "1                             1               3  \n",
       "2                             1               3  \n",
       "3                             1               3  \n",
       "4                             1               3  "
      ]
     },
     "execution_count": 228,
     "metadata": {},
     "output_type": "execute_result"
    }
   ],
   "source": [
    "df_esnli_tmp2 = df_esnli[df_esnli.premise_counts.eq(3)].copy()\n",
    "df_esnli_tmp2.head()"
   ]
  },
  {
   "cell_type": "code",
   "execution_count": 229,
   "metadata": {},
   "outputs": [
    {
     "data": {
      "text/plain": [
       "0    141668\n",
       "2    141367\n",
       "1    141180\n",
       "Name: label, dtype: int64"
      ]
     },
     "execution_count": 229,
     "metadata": {},
     "output_type": "execute_result"
    }
   ],
   "source": [
    "# equal number of labels?\n",
    "df_esnli_tmp2.label.value_counts()"
   ]
  },
  {
   "cell_type": "code",
   "execution_count": 230,
   "metadata": {},
   "outputs": [
    {
     "name": "stderr",
     "output_type": "stream",
     "text": [
      "100%|██████████| 141405/141405 [00:04<00:00, 31430.55it/s]\n",
      "100%|██████████| 424215/424215 [00:01<00:00, 290877.37it/s]\n"
     ]
    }
   ],
   "source": [
    "# determine premises with incomplete labels (at least one label is missing)\n",
    "labels_complete = df_esnli_tmp2.groupby([\"premise\"]).progress_apply(lambda g: len(set(g[\"label\"]))==3)\n",
    "df_esnli_tmp2[\"complete\"] = df_esnli_tmp2.premise.progress_apply(lambda x: labels_complete[x])"
   ]
  },
  {
   "cell_type": "code",
   "execution_count": 231,
   "metadata": {},
   "outputs": [],
   "source": [
    "df_esnli_tmp2 = df_esnli_tmp2[df_esnli_tmp2.complete]"
   ]
  },
  {
   "cell_type": "code",
   "execution_count": 232,
   "metadata": {},
   "outputs": [
    {
     "data": {
      "text/html": [
       "<div>\n",
       "<style scoped>\n",
       "    .dataframe tbody tr th:only-of-type {\n",
       "        vertical-align: middle;\n",
       "    }\n",
       "\n",
       "    .dataframe tbody tr th {\n",
       "        vertical-align: top;\n",
       "    }\n",
       "\n",
       "    .dataframe thead th {\n",
       "        text-align: right;\n",
       "    }\n",
       "</style>\n",
       "<table border=\"1\" class=\"dataframe\">\n",
       "  <thead>\n",
       "    <tr style=\"text-align: right;\">\n",
       "      <th></th>\n",
       "      <th>premise</th>\n",
       "      <th>hypothesis</th>\n",
       "      <th>label</th>\n",
       "      <th>explanation_1</th>\n",
       "      <th>explanation_2</th>\n",
       "      <th>explanation_3</th>\n",
       "      <th>n_explanations</th>\n",
       "      <th>premise_counts</th>\n",
       "      <th>complete</th>\n",
       "    </tr>\n",
       "  </thead>\n",
       "  <tbody>\n",
       "    <tr>\n",
       "      <th>0</th>\n",
       "      <td>A person on a horse jumps over a broken down a...</td>\n",
       "      <td>A person is training his horse for a competition.</td>\n",
       "      <td>1</td>\n",
       "      <td>the person is not necessarily training his horse</td>\n",
       "      <td></td>\n",
       "      <td></td>\n",
       "      <td>1</td>\n",
       "      <td>3</td>\n",
       "      <td>True</td>\n",
       "    </tr>\n",
       "    <tr>\n",
       "      <th>1</th>\n",
       "      <td>A person on a horse jumps over a broken down a...</td>\n",
       "      <td>A person is at a diner, ordering an omelette.</td>\n",
       "      <td>2</td>\n",
       "      <td>One cannot be on a jumping horse cannot be a d...</td>\n",
       "      <td></td>\n",
       "      <td></td>\n",
       "      <td>1</td>\n",
       "      <td>3</td>\n",
       "      <td>True</td>\n",
       "    </tr>\n",
       "    <tr>\n",
       "      <th>2</th>\n",
       "      <td>A person on a horse jumps over a broken down a...</td>\n",
       "      <td>A person is outdoors, on a horse.</td>\n",
       "      <td>0</td>\n",
       "      <td>a broken down airplane is outdoors</td>\n",
       "      <td></td>\n",
       "      <td></td>\n",
       "      <td>1</td>\n",
       "      <td>3</td>\n",
       "      <td>True</td>\n",
       "    </tr>\n",
       "    <tr>\n",
       "      <th>3</th>\n",
       "      <td>Children smiling and waving at camera</td>\n",
       "      <td>They are smiling at their parents</td>\n",
       "      <td>1</td>\n",
       "      <td>Just because they are smiling and waving at a ...</td>\n",
       "      <td></td>\n",
       "      <td></td>\n",
       "      <td>1</td>\n",
       "      <td>3</td>\n",
       "      <td>True</td>\n",
       "    </tr>\n",
       "    <tr>\n",
       "      <th>4</th>\n",
       "      <td>Children smiling and waving at camera</td>\n",
       "      <td>There are children present</td>\n",
       "      <td>0</td>\n",
       "      <td>The children must be present to see them smili...</td>\n",
       "      <td></td>\n",
       "      <td></td>\n",
       "      <td>1</td>\n",
       "      <td>3</td>\n",
       "      <td>True</td>\n",
       "    </tr>\n",
       "    <tr>\n",
       "      <th>...</th>\n",
       "      <td>...</td>\n",
       "      <td>...</td>\n",
       "      <td>...</td>\n",
       "      <td>...</td>\n",
       "      <td>...</td>\n",
       "      <td>...</td>\n",
       "      <td>...</td>\n",
       "      <td>...</td>\n",
       "      <td>...</td>\n",
       "    </tr>\n",
       "    <tr>\n",
       "      <th>549362</th>\n",
       "      <td>Four dirty and barefooted children.</td>\n",
       "      <td>four kids won awards for 'cleanest feet'</td>\n",
       "      <td>2</td>\n",
       "      <td>in a both sentence dirty and cleanest are not ...</td>\n",
       "      <td></td>\n",
       "      <td></td>\n",
       "      <td>1</td>\n",
       "      <td>3</td>\n",
       "      <td>True</td>\n",
       "    </tr>\n",
       "    <tr>\n",
       "      <th>549363</th>\n",
       "      <td>Four dirty and barefooted children.</td>\n",
       "      <td>four homeless children had their shoes stolen,...</td>\n",
       "      <td>1</td>\n",
       "      <td>the children are not necessarily homeless</td>\n",
       "      <td></td>\n",
       "      <td></td>\n",
       "      <td>1</td>\n",
       "      <td>3</td>\n",
       "      <td>True</td>\n",
       "    </tr>\n",
       "    <tr>\n",
       "      <th>549364</th>\n",
       "      <td>A man is surfing in a bodysuit in beautiful bl...</td>\n",
       "      <td>A man in a bodysuit is competing in a surfing ...</td>\n",
       "      <td>1</td>\n",
       "      <td>the man is not necessarily competing</td>\n",
       "      <td></td>\n",
       "      <td></td>\n",
       "      <td>1</td>\n",
       "      <td>3</td>\n",
       "      <td>True</td>\n",
       "    </tr>\n",
       "    <tr>\n",
       "      <th>549365</th>\n",
       "      <td>A man is surfing in a bodysuit in beautiful bl...</td>\n",
       "      <td>A man in a business suit is heading to a board...</td>\n",
       "      <td>2</td>\n",
       "      <td>That is either a business suit or bodysuit.</td>\n",
       "      <td></td>\n",
       "      <td></td>\n",
       "      <td>1</td>\n",
       "      <td>3</td>\n",
       "      <td>True</td>\n",
       "    </tr>\n",
       "    <tr>\n",
       "      <th>549366</th>\n",
       "      <td>A man is surfing in a bodysuit in beautiful bl...</td>\n",
       "      <td>On the beautiful blue water there is a man in ...</td>\n",
       "      <td>0</td>\n",
       "      <td>The man is in a bodysuit and he is surfing on ...</td>\n",
       "      <td></td>\n",
       "      <td></td>\n",
       "      <td>1</td>\n",
       "      <td>3</td>\n",
       "      <td>True</td>\n",
       "    </tr>\n",
       "  </tbody>\n",
       "</table>\n",
       "<p>416766 rows × 9 columns</p>\n",
       "</div>"
      ],
      "text/plain": [
       "                                                  premise  \\\n",
       "0       A person on a horse jumps over a broken down a...   \n",
       "1       A person on a horse jumps over a broken down a...   \n",
       "2       A person on a horse jumps over a broken down a...   \n",
       "3                   Children smiling and waving at camera   \n",
       "4                   Children smiling and waving at camera   \n",
       "...                                                   ...   \n",
       "549362                Four dirty and barefooted children.   \n",
       "549363                Four dirty and barefooted children.   \n",
       "549364  A man is surfing in a bodysuit in beautiful bl...   \n",
       "549365  A man is surfing in a bodysuit in beautiful bl...   \n",
       "549366  A man is surfing in a bodysuit in beautiful bl...   \n",
       "\n",
       "                                               hypothesis  label  \\\n",
       "0       A person is training his horse for a competition.      1   \n",
       "1           A person is at a diner, ordering an omelette.      2   \n",
       "2                       A person is outdoors, on a horse.      0   \n",
       "3                       They are smiling at their parents      1   \n",
       "4                              There are children present      0   \n",
       "...                                                   ...    ...   \n",
       "549362           four kids won awards for 'cleanest feet'      2   \n",
       "549363  four homeless children had their shoes stolen,...      1   \n",
       "549364  A man in a bodysuit is competing in a surfing ...      1   \n",
       "549365  A man in a business suit is heading to a board...      2   \n",
       "549366  On the beautiful blue water there is a man in ...      0   \n",
       "\n",
       "                                            explanation_1 explanation_2  \\\n",
       "0        the person is not necessarily training his horse                 \n",
       "1       One cannot be on a jumping horse cannot be a d...                 \n",
       "2                      a broken down airplane is outdoors                 \n",
       "3       Just because they are smiling and waving at a ...                 \n",
       "4       The children must be present to see them smili...                 \n",
       "...                                                   ...           ...   \n",
       "549362  in a both sentence dirty and cleanest are not ...                 \n",
       "549363          the children are not necessarily homeless                 \n",
       "549364               the man is not necessarily competing                 \n",
       "549365        That is either a business suit or bodysuit.                 \n",
       "549366  The man is in a bodysuit and he is surfing on ...                 \n",
       "\n",
       "       explanation_3  n_explanations  premise_counts  complete  \n",
       "0                                  1               3      True  \n",
       "1                                  1               3      True  \n",
       "2                                  1               3      True  \n",
       "3                                  1               3      True  \n",
       "4                                  1               3      True  \n",
       "...              ...             ...             ...       ...  \n",
       "549362                             1               3      True  \n",
       "549363                             1               3      True  \n",
       "549364                             1               3      True  \n",
       "549365                             1               3      True  \n",
       "549366                             1               3      True  \n",
       "\n",
       "[416766 rows x 9 columns]"
      ]
     },
     "execution_count": 232,
     "metadata": {},
     "output_type": "execute_result"
    }
   ],
   "source": [
    "df_esnli_tmp2"
   ]
  },
  {
   "cell_type": "markdown",
   "metadata": {},
   "source": [
    "### Merge"
   ]
  },
  {
   "cell_type": "code",
   "execution_count": 233,
   "metadata": {},
   "outputs": [],
   "source": [
    "columns = ['premise', 'hypothesis', 'label', 'explanation_1', 'explanation_2',\n",
    "       'explanation_3']\n",
    "df_esnli_final = pd.concat([\n",
    "    df_esnli_tmp2[columns],\n",
    "    df_esnli_tmp[columns]\n",
    "])\n",
    "df_esnli_final.reset_index(drop=True,inplace=True)"
   ]
  },
  {
   "cell_type": "code",
   "execution_count": 234,
   "metadata": {},
   "outputs": [
    {
     "data": {
      "text/html": [
       "<div>\n",
       "<style scoped>\n",
       "    .dataframe tbody tr th:only-of-type {\n",
       "        vertical-align: middle;\n",
       "    }\n",
       "\n",
       "    .dataframe tbody tr th {\n",
       "        vertical-align: top;\n",
       "    }\n",
       "\n",
       "    .dataframe thead th {\n",
       "        text-align: right;\n",
       "    }\n",
       "</style>\n",
       "<table border=\"1\" class=\"dataframe\">\n",
       "  <thead>\n",
       "    <tr style=\"text-align: right;\">\n",
       "      <th></th>\n",
       "      <th>premise</th>\n",
       "      <th>hypothesis</th>\n",
       "      <th>label</th>\n",
       "      <th>explanation_1</th>\n",
       "      <th>explanation_2</th>\n",
       "      <th>explanation_3</th>\n",
       "    </tr>\n",
       "  </thead>\n",
       "  <tbody>\n",
       "    <tr>\n",
       "      <th>0</th>\n",
       "      <td>A person on a horse jumps over a broken down a...</td>\n",
       "      <td>A person is training his horse for a competition.</td>\n",
       "      <td>1</td>\n",
       "      <td>the person is not necessarily training his horse</td>\n",
       "      <td></td>\n",
       "      <td></td>\n",
       "    </tr>\n",
       "    <tr>\n",
       "      <th>1</th>\n",
       "      <td>A person on a horse jumps over a broken down a...</td>\n",
       "      <td>A person is at a diner, ordering an omelette.</td>\n",
       "      <td>2</td>\n",
       "      <td>One cannot be on a jumping horse cannot be a d...</td>\n",
       "      <td></td>\n",
       "      <td></td>\n",
       "    </tr>\n",
       "    <tr>\n",
       "      <th>2</th>\n",
       "      <td>A person on a horse jumps over a broken down a...</td>\n",
       "      <td>A person is outdoors, on a horse.</td>\n",
       "      <td>0</td>\n",
       "      <td>a broken down airplane is outdoors</td>\n",
       "      <td></td>\n",
       "      <td></td>\n",
       "    </tr>\n",
       "    <tr>\n",
       "      <th>3</th>\n",
       "      <td>Children smiling and waving at camera</td>\n",
       "      <td>They are smiling at their parents</td>\n",
       "      <td>1</td>\n",
       "      <td>Just because they are smiling and waving at a ...</td>\n",
       "      <td></td>\n",
       "      <td></td>\n",
       "    </tr>\n",
       "    <tr>\n",
       "      <th>4</th>\n",
       "      <td>Children smiling and waving at camera</td>\n",
       "      <td>There are children present</td>\n",
       "      <td>0</td>\n",
       "      <td>The children must be present to see them smili...</td>\n",
       "      <td></td>\n",
       "      <td></td>\n",
       "    </tr>\n",
       "    <tr>\n",
       "      <th>...</th>\n",
       "      <td>...</td>\n",
       "      <td>...</td>\n",
       "      <td>...</td>\n",
       "      <td>...</td>\n",
       "      <td>...</td>\n",
       "      <td>...</td>\n",
       "    </tr>\n",
       "    <tr>\n",
       "      <th>539794</th>\n",
       "      <td>young adults posing for a photo at night, some...</td>\n",
       "      <td>People smile for the camera.</td>\n",
       "      <td>1</td>\n",
       "      <td>We don't know that people smile.</td>\n",
       "      <td></td>\n",
       "      <td></td>\n",
       "    </tr>\n",
       "    <tr>\n",
       "      <th>539795</th>\n",
       "      <td>young adults posing for a photo at night, some...</td>\n",
       "      <td>They are warm</td>\n",
       "      <td>2</td>\n",
       "      <td>It is chilly so the adults are not likely warm.</td>\n",
       "      <td></td>\n",
       "      <td></td>\n",
       "    </tr>\n",
       "    <tr>\n",
       "      <th>539796</th>\n",
       "      <td>young adults posing for a photo at night, some...</td>\n",
       "      <td>People are taking a photo outside in the cold.</td>\n",
       "      <td>0</td>\n",
       "      <td>In a both sentence  adults posing a photo outs...</td>\n",
       "      <td></td>\n",
       "      <td></td>\n",
       "    </tr>\n",
       "    <tr>\n",
       "      <th>539797</th>\n",
       "      <td>young adults posing for a photo at night, some...</td>\n",
       "      <td>The young adults are outside</td>\n",
       "      <td>1</td>\n",
       "      <td>The young adults are posing for a photo and it...</td>\n",
       "      <td></td>\n",
       "      <td></td>\n",
       "    </tr>\n",
       "    <tr>\n",
       "      <th>539798</th>\n",
       "      <td>young adults posing for a photo at night, some...</td>\n",
       "      <td>People are sweating near some palm trees durin...</td>\n",
       "      <td>2</td>\n",
       "      <td>Sweating suggests hot rather than chilly and n...</td>\n",
       "      <td></td>\n",
       "      <td></td>\n",
       "    </tr>\n",
       "  </tbody>\n",
       "</table>\n",
       "<p>539799 rows × 6 columns</p>\n",
       "</div>"
      ],
      "text/plain": [
       "                                                  premise  \\\n",
       "0       A person on a horse jumps over a broken down a...   \n",
       "1       A person on a horse jumps over a broken down a...   \n",
       "2       A person on a horse jumps over a broken down a...   \n",
       "3                   Children smiling and waving at camera   \n",
       "4                   Children smiling and waving at camera   \n",
       "...                                                   ...   \n",
       "539794  young adults posing for a photo at night, some...   \n",
       "539795  young adults posing for a photo at night, some...   \n",
       "539796  young adults posing for a photo at night, some...   \n",
       "539797  young adults posing for a photo at night, some...   \n",
       "539798  young adults posing for a photo at night, some...   \n",
       "\n",
       "                                               hypothesis  label  \\\n",
       "0       A person is training his horse for a competition.      1   \n",
       "1           A person is at a diner, ordering an omelette.      2   \n",
       "2                       A person is outdoors, on a horse.      0   \n",
       "3                       They are smiling at their parents      1   \n",
       "4                              There are children present      0   \n",
       "...                                                   ...    ...   \n",
       "539794                       People smile for the camera.      1   \n",
       "539795                                      They are warm      2   \n",
       "539796     People are taking a photo outside in the cold.      0   \n",
       "539797                       The young adults are outside      1   \n",
       "539798  People are sweating near some palm trees durin...      2   \n",
       "\n",
       "                                            explanation_1 explanation_2  \\\n",
       "0        the person is not necessarily training his horse                 \n",
       "1       One cannot be on a jumping horse cannot be a d...                 \n",
       "2                      a broken down airplane is outdoors                 \n",
       "3       Just because they are smiling and waving at a ...                 \n",
       "4       The children must be present to see them smili...                 \n",
       "...                                                   ...           ...   \n",
       "539794                   We don't know that people smile.                 \n",
       "539795    It is chilly so the adults are not likely warm.                 \n",
       "539796  In a both sentence  adults posing a photo outs...                 \n",
       "539797  The young adults are posing for a photo and it...                 \n",
       "539798  Sweating suggests hot rather than chilly and n...                 \n",
       "\n",
       "       explanation_3  \n",
       "0                     \n",
       "1                     \n",
       "2                     \n",
       "3                     \n",
       "4                     \n",
       "...              ...  \n",
       "539794                \n",
       "539795                \n",
       "539796                \n",
       "539797                \n",
       "539798                \n",
       "\n",
       "[539799 rows x 6 columns]"
      ]
     },
     "execution_count": 234,
     "metadata": {},
     "output_type": "execute_result"
    }
   ],
   "source": [
    "df_esnli_final"
   ]
  },
  {
   "cell_type": "markdown",
   "metadata": {},
   "source": [
    "### Sanity Checks"
   ]
  },
  {
   "cell_type": "code",
   "execution_count": 235,
   "metadata": {},
   "outputs": [
    {
     "data": {
      "text/plain": [
       "1    179933\n",
       "2    179933\n",
       "0    179933\n",
       "Name: label, dtype: int64"
      ]
     },
     "execution_count": 235,
     "metadata": {},
     "output_type": "execute_result"
    }
   ],
   "source": [
    "# equal number of labels?\n",
    "df_esnli_final.label.value_counts()"
   ]
  },
  {
   "cell_type": "code",
   "execution_count": 236,
   "metadata": {},
   "outputs": [
    {
     "name": "stderr",
     "output_type": "stream",
     "text": [
      "100%|██████████| 179933/179933 [00:19<00:00, 9327.99it/s]\n"
     ]
    }
   ],
   "source": [
    "for start in tqdm(range(0, df_esnli_final.shape[0], 3)):\n",
    "    triple = df_esnli_final.iloc[start:start + 3]\n",
    "    assert len(set(triple.premise))==1\n",
    "    assert len(set(triple.label))==3"
   ]
  },
  {
   "cell_type": "markdown",
   "metadata": {},
   "source": [
    "## Checking the transformed DeepA2-ESNLI dataset"
   ]
  },
  {
   "cell_type": "code",
   "execution_count": 41,
   "metadata": {},
   "outputs": [],
   "source": [
    "from deepa2datasets.config import data_dir\n",
    "from datasets import Dataset"
   ]
  },
  {
   "cell_type": "code",
   "execution_count": 47,
   "metadata": {},
   "outputs": [
    {
     "data": {
      "text/plain": [
       "True"
      ]
     },
     "execution_count": 47,
     "metadata": {},
     "output_type": "execute_result"
    }
   ],
   "source": [
    "path = (data_dir / \"processed\" / \"esnli\" / \"train\" / \"train.parquet\")\n",
    "path = path.resolve()\n",
    "path.exists()"
   ]
  },
  {
   "cell_type": "code",
   "execution_count": 49,
   "metadata": {},
   "outputs": [
    {
     "name": "stderr",
     "output_type": "stream",
     "text": [
      "Using custom data configuration default-3f29edf1a53ed96a\n"
     ]
    },
    {
     "name": "stdout",
     "output_type": "stream",
     "text": [
      "Downloading and preparing dataset parquet/default to /Users/ggbetz/.cache/huggingface/datasets/parquet/default-3f29edf1a53ed96a/0.0.0/1638526fd0e8d960534e2155dc54fdff8dce73851f21f031d2fb9c2cf757c121...\n"
     ]
    },
    {
     "name": "stderr",
     "output_type": "stream",
     "text": [
      "100%|██████████| 1/1 [00:00<00:00, 6132.02it/s]\n",
      "100%|██████████| 1/1 [00:00<00:00, 569.80it/s]\n"
     ]
    },
    {
     "name": "stdout",
     "output_type": "stream",
     "text": [
      "Dataset parquet downloaded and prepared to /Users/ggbetz/.cache/huggingface/datasets/parquet/default-3f29edf1a53ed96a/0.0.0/1638526fd0e8d960534e2155dc54fdff8dce73851f21f031d2fb9c2cf757c121. Subsequent calls will reuse this data.\n"
     ]
    }
   ],
   "source": [
    "da2_dataset = Dataset.from_parquet(str(path))"
   ]
  },
  {
   "cell_type": "code",
   "execution_count": 50,
   "metadata": {},
   "outputs": [
    {
     "data": {
      "text/plain": [
       "Dataset({\n",
       "    features: ['argdown_reconstruction', 'argument_source', 'conclusion', 'conclusion_formalized', 'conclusion_statements', 'context', 'distractors', 'entity_placeholders', 'erroneous_argdown', 'gist', 'intermediary_conclusion', 'intermediary_conclusion_formalized', 'metadata', 'misc_placeholders', 'predicate_placeholders', 'premises', 'premises_formalized', 'reason_statements', 'source_paraphrase', 'title'],\n",
       "    num_rows: 31200\n",
       "})"
      ]
     },
     "execution_count": 50,
     "metadata": {},
     "output_type": "execute_result"
    }
   ],
   "source": [
    "da2_dataset"
   ]
  },
  {
   "cell_type": "code",
   "execution_count": 51,
   "metadata": {},
   "outputs": [
    {
     "data": {
      "text/plain": [
       "{'argdown_reconstruction': '(1) # 6 tries her best to help her team to victory.\\n(2) if a sports arena is empty then it is wrong that # 6 tries her best to help her team to victory.\\n--\\nwith modus tollens from (1) (2)\\n--\\n(3) it is wrong that a sports arena is empty.',\n",
       " 'argument_source': 'The team cannot be helped to victory if the arena is empty. if she is helping her team then it is inferred she is playing a team sport it is wrong that a sports arena is empty. # 6 tries her best to help her team to victory.',\n",
       " 'conclusion': [{'explicit': True,\n",
       "   'ref_reco': 3,\n",
       "   'text': 'it is wrong that a sports arena is empty.'}],\n",
       " 'conclusion_formalized': [{'form': '¬{q}', 'ref_reco': 3}],\n",
       " 'conclusion_statements': [{'ref_reco': 3,\n",
       "   'starts_at': 135,\n",
       "   'text': 'it is wrong that a sports arena is empty.'}],\n",
       " 'context': None,\n",
       " 'distractors': ['if she is helping her team then it is inferred she is playing a team sport'],\n",
       " 'entity_placeholders': None,\n",
       " 'erroneous_argdown': '(1) # 6 tries her best to help her team to victory.\\n(2) if a sports arena is empty then it is wrong that # 6 tries her best to help her team to victory.\\n--\\nfrom (1) (2)\\n--\\n(3) it is wrong that a sports arena is empty.',\n",
       " 'gist': 'The team cannot be helped to victory if the arena is empty.',\n",
       " 'intermediary_conclusion': None,\n",
       " 'intermediary_conclusion_formalized': None,\n",
       " 'metadata': {'argument_mask': [1, 1, 1],\n",
       "  'config': {'argdown_err_template_path': 'esnli/argdown_err-07.txt',\n",
       "   'argdown_template_path': 'esnli/argdown_generic.txt',\n",
       "   'formal_scheme': ['{p}', '{q} -> ¬{p}', '¬{q}'],\n",
       "   'label': 'contradiction',\n",
       "   'nl_scheme': ['{{ premise | lower }}',\n",
       "    '{{ hypothesis | conditional(premise | negation) }}',\n",
       "    '{{ hypothesis | negation }}'],\n",
       "   'placeholders': {'p': '{premise}', 'q': '{hypothesis}'},\n",
       "   'scheme_name': 'modus tollens',\n",
       "   'source_paraphrase_template_path': 'esnli/source_paraphrase.txt'},\n",
       "  'distractor_mask': [0, 1],\n",
       "  'id': '4d58eeec-f3f5-4fbe-9d87-6ee618bcb975',\n",
       "  'label': 'contradiction'},\n",
       " 'misc_placeholders': {'p': '# 6 tries her best to help her team to victory.',\n",
       "  'q': 'A sports arena is empty.'},\n",
       " 'predicate_placeholders': None,\n",
       " 'premises': [{'explicit': True,\n",
       "   'ref_reco': 1,\n",
       "   'text': '# 6 tries her best to help her team to victory.'},\n",
       "  {'explicit': True,\n",
       "   'ref_reco': 2,\n",
       "   'text': 'if a sports arena is empty then it is wrong that # 6 tries her best to help her team to victory.'}],\n",
       " 'premises_formalized': [{'form': '{p}', 'ref_reco': 1},\n",
       "  {'form': '{q} -> ¬{p}', 'ref_reco': 2}],\n",
       " 'reason_statements': [{'ref_reco': 2,\n",
       "   'starts_at': 0,\n",
       "   'text': 'The team cannot be helped to victory if the arena is empty.'},\n",
       "  {'ref_reco': 1,\n",
       "   'starts_at': 177,\n",
       "   'text': '# 6 tries her best to help her team to victory.'}],\n",
       " 'source_paraphrase': 'the team cannot be helped to victory if the arena is empty. # 6 tries her best to help her team to victory. therefore: it is wrong that a sports arena is empty.',\n",
       " 'title': None}"
      ]
     },
     "execution_count": 51,
     "metadata": {},
     "output_type": "execute_result"
    }
   ],
   "source": [
    "da2_dataset[50]"
   ]
  },
  {
   "cell_type": "code",
   "execution_count": null,
   "metadata": {},
   "outputs": [],
   "source": []
  }
 ],
 "metadata": {
  "interpreter": {
   "hash": "aee8b7b246df8f9039afb4144a1f6fd8d2ca17a180786b69acc140d282b71a49"
  },
  "kernelspec": {
   "display_name": "Python 3.9.5 64-bit",
   "language": "python",
   "name": "python3"
  },
  "language_info": {
   "codemirror_mode": {
    "name": "ipython",
    "version": 3
   },
   "file_extension": ".py",
   "mimetype": "text/x-python",
   "name": "python",
   "nbconvert_exporter": "python",
   "pygments_lexer": "ipython3",
   "version": "3.8.12"
  },
  "orig_nbformat": 4
 },
 "nbformat": 4,
 "nbformat_minor": 2
}
