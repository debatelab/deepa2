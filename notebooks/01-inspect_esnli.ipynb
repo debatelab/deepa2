{
 "cells": [
  {
   "cell_type": "markdown",
   "metadata": {},
   "source": [
    "# Inspecting the e-SNLI Dataset"
   ]
  },
  {
   "cell_type": "markdown",
   "metadata": {},
   "source": [
    "## Checking the transformed DeepA2-ESNLI dataset"
   ]
  },
  {
   "cell_type": "code",
   "execution_count": 41,
   "metadata": {},
   "outputs": [],
   "source": [
    "from deepa2.config import data_dir\n",
    "from datasets import Dataset"
   ]
  },
  {
   "cell_type": "code",
   "execution_count": 47,
   "metadata": {},
   "outputs": [
    {
     "data": {
      "text/plain": [
       "True"
      ]
     },
     "execution_count": 47,
     "metadata": {},
     "output_type": "execute_result"
    }
   ],
   "source": [
    "path = (data_dir / \"processed\" / \"esnli\" / \"train\" / \"train.parquet\")\n",
    "path = path.resolve()\n",
    "path.exists()"
   ]
  },
  {
   "cell_type": "code",
   "execution_count": 49,
   "metadata": {},
   "outputs": [
    {
     "name": "stderr",
     "output_type": "stream",
     "text": [
      "Using custom data configuration default-3f29edf1a53ed96a\n"
     ]
    },
    {
     "name": "stdout",
     "output_type": "stream",
     "text": [
      "Downloading and preparing dataset parquet/default to /Users/ggbetz/.cache/huggingface/datasets/parquet/default-3f29edf1a53ed96a/0.0.0/1638526fd0e8d960534e2155dc54fdff8dce73851f21f031d2fb9c2cf757c121...\n"
     ]
    },
    {
     "name": "stderr",
     "output_type": "stream",
     "text": [
      "100%|██████████| 1/1 [00:00<00:00, 6132.02it/s]\n",
      "100%|██████████| 1/1 [00:00<00:00, 569.80it/s]\n"
     ]
    },
    {
     "name": "stdout",
     "output_type": "stream",
     "text": [
      "Dataset parquet downloaded and prepared to /Users/ggbetz/.cache/huggingface/datasets/parquet/default-3f29edf1a53ed96a/0.0.0/1638526fd0e8d960534e2155dc54fdff8dce73851f21f031d2fb9c2cf757c121. Subsequent calls will reuse this data.\n"
     ]
    }
   ],
   "source": [
    "da2_dataset = Dataset.from_parquet(str(path))"
   ]
  },
  {
   "cell_type": "code",
   "execution_count": 50,
   "metadata": {},
   "outputs": [
    {
     "data": {
      "text/plain": [
       "Dataset({\n",
       "    features: ['argdown_reconstruction', 'source_text', 'conclusion', 'conclusion_formalized', 'conjectures', 'context', 'distractors', 'entity_placeholders', 'erroneous_argdown', 'gist', 'intermediary_conclusion', 'intermediary_conclusion_formalized', 'metadata', 'misc_placeholders', 'predicate_placeholders', 'premises', 'premises_formalized', 'reasons', 'source_paraphrase', 'title'],\n",
       "    num_rows: 31200\n",
       "})"
      ]
     },
     "execution_count": 50,
     "metadata": {},
     "output_type": "execute_result"
    }
   ],
   "source": [
    "da2_dataset"
   ]
  },
  {
   "cell_type": "code",
   "execution_count": 51,
   "metadata": {},
   "outputs": [
    {
     "data": {
      "text/plain": [
       "{'argdown_reconstruction': '(1) # 6 tries her best to help her team to victory.\\n(2) if a sports arena is empty then it is wrong that # 6 tries her best to help her team to victory.\\n--\\nwith modus tollens from (1) (2)\\n--\\n(3) it is wrong that a sports arena is empty.',\n",
       " 'source_text': 'The team cannot be helped to victory if the arena is empty. if she is helping her team then it is inferred she is playing a team sport it is wrong that a sports arena is empty. # 6 tries her best to help her team to victory.',\n",
       " 'conclusion': [{'explicit': True,\n",
       "   'ref_reco': 3,\n",
       "   'text': 'it is wrong that a sports arena is empty.'}],\n",
       " 'conclusion_formalized': [{'form': '¬{q}', 'ref_reco': 3}],\n",
       " 'conjectures': [{'ref_reco': 3,\n",
       "   'starts_at': 135,\n",
       "   'text': 'it is wrong that a sports arena is empty.'}],\n",
       " 'context': None,\n",
       " 'distractors': ['if she is helping her team then it is inferred she is playing a team sport'],\n",
       " 'entity_placeholders': None,\n",
       " 'erroneous_argdown': '(1) # 6 tries her best to help her team to victory.\\n(2) if a sports arena is empty then it is wrong that # 6 tries her best to help her team to victory.\\n--\\nfrom (1) (2)\\n--\\n(3) it is wrong that a sports arena is empty.',\n",
       " 'gist': 'The team cannot be helped to victory if the arena is empty.',\n",
       " 'intermediary_conclusion': None,\n",
       " 'intermediary_conclusion_formalized': None,\n",
       " 'metadata': {'argument_mask': [1, 1, 1],\n",
       "  'config': {'argdown_err_template_path': 'esnli/argdown_err-07.txt',\n",
       "   'argdown_template_path': 'esnli/argdown_generic.txt',\n",
       "   'formal_scheme': ['{p}', '{q} -> ¬{p}', '¬{q}'],\n",
       "   'label': 'contradiction',\n",
       "   'nl_scheme': ['{{ premise | lower }}',\n",
       "    '{{ hypothesis | conditional(premise | negation) }}',\n",
       "    '{{ hypothesis | negation }}'],\n",
       "   'placeholders': {'p': '{premise}', 'q': '{hypothesis}'},\n",
       "   'scheme_name': 'modus tollens',\n",
       "   'source_paraphrase_template_path': 'esnli/source_paraphrase.txt'},\n",
       "  'distractor_mask': [0, 1],\n",
       "  'id': '4d58eeec-f3f5-4fbe-9d87-6ee618bcb975',\n",
       "  'label': 'contradiction'},\n",
       " 'misc_placeholders': {'p': '# 6 tries her best to help her team to victory.',\n",
       "  'q': 'A sports arena is empty.'},\n",
       " 'predicate_placeholders': None,\n",
       " 'premises': [{'explicit': True,\n",
       "   'ref_reco': 1,\n",
       "   'text': '# 6 tries her best to help her team to victory.'},\n",
       "  {'explicit': True,\n",
       "   'ref_reco': 2,\n",
       "   'text': 'if a sports arena is empty then it is wrong that # 6 tries her best to help her team to victory.'}],\n",
       " 'premises_formalized': [{'form': '{p}', 'ref_reco': 1},\n",
       "  {'form': '{q} -> ¬{p}', 'ref_reco': 2}],\n",
       " 'reasons': [{'ref_reco': 2,\n",
       "   'starts_at': 0,\n",
       "   'text': 'The team cannot be helped to victory if the arena is empty.'},\n",
       "  {'ref_reco': 1,\n",
       "   'starts_at': 177,\n",
       "   'text': '# 6 tries her best to help her team to victory.'}],\n",
       " 'source_paraphrase': 'the team cannot be helped to victory if the arena is empty. # 6 tries her best to help her team to victory. therefore: it is wrong that a sports arena is empty.',\n",
       " 'title': None}"
      ]
     },
     "execution_count": 51,
     "metadata": {},
     "output_type": "execute_result"
    }
   ],
   "source": [
    "da2_dataset[50]"
   ]
  },
  {
   "cell_type": "code",
   "execution_count": null,
   "metadata": {},
   "outputs": [],
   "source": []
  }
 ],
 "metadata": {
  "interpreter": {
   "hash": "aee8b7b246df8f9039afb4144a1f6fd8d2ca17a180786b69acc140d282b71a49"
  },
  "kernelspec": {
   "display_name": "Python 3.9.5 64-bit",
   "language": "python",
   "name": "python3"
  },
  "language_info": {
   "codemirror_mode": {
    "name": "ipython",
    "version": 3
   },
   "file_extension": ".py",
   "mimetype": "text/x-python",
   "name": "python",
   "nbconvert_exporter": "python",
   "pygments_lexer": "ipython3",
   "version": "3.8.5"
  },
  "orig_nbformat": 4
 },
 "nbformat": 4,
 "nbformat_minor": 2
}
