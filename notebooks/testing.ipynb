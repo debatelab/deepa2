{
 "cells": [
  {
   "cell_type": "code",
   "execution_count": 1,
   "metadata": {},
   "outputs": [],
   "source": [
    "from deepa2datasets.config import template_dir\n",
    "import random\n",
    "from typing import Any,List,Dict\n",
    "from dataclasses import asdict"
   ]
  },
  {
   "cell_type": "code",
   "execution_count": 2,
   "metadata": {},
   "outputs": [],
   "source": [
    "from deepa2datasets.nli_builder import eSNLIBuilder"
   ]
  },
  {
   "cell_type": "code",
   "execution_count": 3,
   "metadata": {},
   "outputs": [],
   "source": [
    "builder = eSNLIBuilder()"
   ]
  },
  {
   "cell_type": "code",
   "execution_count": 4,
   "metadata": {},
   "outputs": [
    {
     "data": {
      "text/plain": [
       "{'p': 'This church choir sings to the masses as they sing joyous songs from the book at a church.',\n",
       " 'he': 'The church is filled with song.',\n",
       " 'hn': 'The church has cracks in the ceiling.',\n",
       " 'hc': 'A choir singing at a baseball game.',\n",
       " 'en': ['Not all churches have cracks in the ceiling',\n",
       "  'There is no indication that there are cracks in the ceiling of the church.',\n",
       "  'Not all churches have cracks in the ceiling.'],\n",
       " 'ee': ['\"Filled with song\" is a rephrasing of the \"choir sings to the masses.\"',\n",
       "  'hearing song brings joyous in the church.',\n",
       "  'If the church choir sings then the church is filled with song.'],\n",
       " 'ec': ['A choir sing some other songs other than book at church during the base play. they cannot see book and play base ball same time.',\n",
       "  'The choir is at a chruch not a baseball game.',\n",
       "  'A baseball game isn’t played at a church.']}"
      ]
     },
     "execution_count": 4,
     "metadata": {},
     "output_type": "execute_result"
    }
   ],
   "source": [
    "builder.fetch_input(None)\n",
    "builder._input"
   ]
  },
  {
   "cell_type": "code",
   "execution_count": 5,
   "metadata": {},
   "outputs": [
    {
     "data": {
      "text/plain": [
       "DeepA2Item(argument_source=None, title=None, gist=None, source_paraphrase=None, context=None, argdown_reconstruction=None, erroneous_argdown=None, reason_statements=None, conclusion_statements=None, premises=None, intermediary_conclusion=None, conclusion=None, premises_formalized=None, intermediary_conclusion_formalized=None, conclusion_formalized=None, predicate_placeholders=None, entity_placeholders=None, misc_placeholders=None, distractors=None, id='123-456', metadata={'config': eSNLIConfiguration(label='entailment', argdown_template_path='esnli/argdown_generic.txt', scheme_name='modus ponens', formal_scheme=['{p}', '{p} -> {q}', '{q}'], placeholders={'p': '{premise}', 'q': '{hypothesis}'}, nl_scheme=['{{ premise | lower }}', '{{ premise | conditional(hypothesis) }}', '{{ hypothesis | lower }}']), 'argument_mask': [1, 1, 1], 'distractor_mask': [1, 1], 'label': 'entailment'})"
      ]
     },
     "execution_count": 5,
     "metadata": {},
     "output_type": "execute_result"
    }
   ],
   "source": [
    "builder.configure_product()\n",
    "builder._product[0]"
   ]
  },
  {
   "cell_type": "code",
   "execution_count": 6,
   "metadata": {},
   "outputs": [
    {
     "data": {
      "text/plain": [
       "{'argument_source': 'the church is filled with song. \"Filled with song\" is a rephrasing of the \"choir sings to the masses.\" The church has cracks in the ceiling. A choir sing some other songs other than book at church during the base play. they cannot see book and play base ball same time. this church choir sings to the masses as they sing joyous songs from the book at a church.',\n",
       " 'title': None,\n",
       " 'gist': None,\n",
       " 'source_paraphrase': None,\n",
       " 'context': None,\n",
       " 'argdown_reconstruction': '(1) this church choir sings to the masses as they sing joyous songs from the book at a church.\\n(2) presuming this church choir sings to the masses as they sing joyous songs from the book at a church, the church is filled with song.\\n--\\nwith modus ponens from (1) (2)\\n--\\n(3) the church is filled with song.',\n",
       " 'erroneous_argdown': None,\n",
       " 'reason_statements': [{'text': '\"Filled with song\" is a rephrasing of the \"choir sings to the masses.\"',\n",
       "   'starts_at': 32,\n",
       "   'ref_reco': 2},\n",
       "  {'text': 'this church choir sings to the masses as they sing joyous songs from the book at a church.',\n",
       "   'starts_at': 270,\n",
       "   'ref_reco': 1}],\n",
       " 'conclusion_statements': [{'text': 'the church is filled with song.',\n",
       "   'starts_at': 0,\n",
       "   'ref_reco': 3}],\n",
       " 'premises': [{'text': 'this church choir sings to the masses as they sing joyous songs from the book at a church.',\n",
       "   'explicit': True,\n",
       "   'ref_reco': 1},\n",
       "  {'text': 'presuming this church choir sings to the masses as they sing joyous songs from the book at a church, the church is filled with song.',\n",
       "   'explicit': True,\n",
       "   'ref_reco': 2}],\n",
       " 'intermediary_conclusion': None,\n",
       " 'conclusion': [{'text': 'the church is filled with song.',\n",
       "   'explicit': True,\n",
       "   'ref_reco': 3}],\n",
       " 'premises_formalized': [{'form': '{p}', 'ref_reco': 1},\n",
       "  {'form': '{p} -> {q}', 'ref_reco': 2}],\n",
       " 'intermediary_conclusion_formalized': None,\n",
       " 'conclusion_formalized': [{'form': '{q}', 'ref_reco': 3}],\n",
       " 'predicate_placeholders': None,\n",
       " 'entity_placeholders': None,\n",
       " 'misc_placeholders': {'p': 'This church choir sings to the masses as they sing joyous songs from the book at a church.',\n",
       "  'q': 'The church is filled with song.'},\n",
       " 'distractors': ['The church has cracks in the ceiling.',\n",
       "  'A choir sing some other songs other than book at church during the base play. they cannot see book and play base ball same time.'],\n",
       " 'id': '123-456',\n",
       " 'metadata': {'config': {'label': 'entailment',\n",
       "   'argdown_template_path': 'esnli/argdown_generic.txt',\n",
       "   'scheme_name': 'modus ponens',\n",
       "   'formal_scheme': ['{p}', '{p} -> {q}', '{q}'],\n",
       "   'placeholders': {'p': '{premise}', 'q': '{hypothesis}'},\n",
       "   'nl_scheme': ['{{ premise | lower }}',\n",
       "    '{{ premise | conditional(hypothesis) }}',\n",
       "    '{{ hypothesis | lower }}']},\n",
       "  'argument_mask': [1, 1, 1],\n",
       "  'distractor_mask': [1, 1],\n",
       "  'label': 'entailment'}}"
      ]
     },
     "execution_count": 6,
     "metadata": {},
     "output_type": "execute_result"
    }
   ],
   "source": [
    "builder.produce_da2item()\n",
    "asdict(builder._product[0])"
   ]
  },
  {
   "cell_type": "code",
   "execution_count": 8,
   "metadata": {},
   "outputs": [
    {
     "data": {
      "text/plain": [
       "{'argument_source': '\"Filled with song\" is a rephrasing of the \"choir sings to the masses.\" this church choir sings to the masses as they sing joyous songs from the book at a church. The church has cracks in the ceiling. it is false that a choir singing at a baseball game.',\n",
       " 'title': None,\n",
       " 'gist': None,\n",
       " 'source_paraphrase': None,\n",
       " 'context': None,\n",
       " 'argdown_reconstruction': '(1) this church choir sings to the masses as they sing joyous songs from the book at a church.\\n(2) presuming this church choir sings to the masses as they sing joyous songs from the book at a church, it is wrong that a choir singing at a baseball game.\\n--\\nwith modus ponens from (1) (2)\\n--\\n(3) it is false that a choir singing at a baseball game.',\n",
       " 'erroneous_argdown': None,\n",
       " 'reason_statements': [{'text': 'this church choir sings to the masses as they sing joyous songs from the book at a church.',\n",
       "   'starts_at': 71,\n",
       "   'ref_reco': 1}],\n",
       " 'conclusion_statements': [{'text': 'it is false that a choir singing at a baseball game.',\n",
       "   'starts_at': 200,\n",
       "   'ref_reco': 3}],\n",
       " 'premises': [{'text': 'this church choir sings to the masses as they sing joyous songs from the book at a church.',\n",
       "   'explicit': True,\n",
       "   'ref_reco': 1},\n",
       "  {'text': 'presuming this church choir sings to the masses as they sing joyous songs from the book at a church, it is wrong that a choir singing at a baseball game.',\n",
       "   'explicit': False,\n",
       "   'ref_reco': 2}],\n",
       " 'intermediary_conclusion': None,\n",
       " 'conclusion': [{'text': 'it is false that a choir singing at a baseball game.',\n",
       "   'explicit': True,\n",
       "   'ref_reco': 3}],\n",
       " 'premises_formalized': [{'form': '{p}', 'ref_reco': 1},\n",
       "  {'form': '{p} -> ¬{q}', 'ref_reco': 2}],\n",
       " 'intermediary_conclusion_formalized': None,\n",
       " 'conclusion_formalized': [{'form': '¬{q}', 'ref_reco': 3}],\n",
       " 'predicate_placeholders': None,\n",
       " 'entity_placeholders': None,\n",
       " 'misc_placeholders': {'p': 'This church choir sings to the masses as they sing joyous songs from the book at a church.',\n",
       "  'q': 'A choir singing at a baseball game.'},\n",
       " 'distractors': ['\"Filled with song\" is a rephrasing of the \"choir sings to the masses.\"',\n",
       "  'The church has cracks in the ceiling.'],\n",
       " 'id': '123-456',\n",
       " 'metadata': {'config': {'label': 'contradiction',\n",
       "   'argdown_template_path': 'esnli/argdown_generic.txt',\n",
       "   'scheme_name': 'modus ponens',\n",
       "   'formal_scheme': ['{p}', '{p} -> ¬{q}', '¬{q}'],\n",
       "   'placeholders': {'p': '{premise}', 'q': '{hypothesis}'},\n",
       "   'nl_scheme': ['{{ premise | lower }}',\n",
       "    '{{ premise | conditional(hypothesis | negation) }}',\n",
       "    '{{ hypothesis | negation }}']},\n",
       "  'argument_mask': [1, 0, 1],\n",
       "  'distractor_mask': [1, 1],\n",
       "  'label': 'contradiction'}}"
      ]
     },
     "execution_count": 8,
     "metadata": {},
     "output_type": "execute_result"
    }
   ],
   "source": [
    "asdict(builder._product[-8])"
   ]
  },
  {
   "cell_type": "code",
   "execution_count": 26,
   "metadata": {},
   "outputs": [],
   "source": [
    "from jinja2 import Environment, FileSystemLoader, select_autoescape\n",
    "env = Environment(\n",
    "    loader = FileSystemLoader(template_dir),\n",
    "    autoescape=select_autoescape()\n",
    ")"
   ]
  },
  {
   "cell_type": "code",
   "execution_count": 27,
   "metadata": {},
   "outputs": [],
   "source": [
    "# define filters\n",
    "\n",
    "templates_conditional = [\n",
    "    \"if {antecent} then {consequent}.\",\n",
    "    \"presuming {antecent}, {consequent}.\",\n",
    "    \"{consequent} if {antecent}.\",\n",
    "    \"{consequent} provided {antecent}.\",\n",
    "    \"{antecent} only if {consequent}.\",\n",
    "]\n",
    "\n",
    "templates_negation = [\n",
    "    \"it is not the case that {sentence}.\",\n",
    "    \"it is wrong that {sentence}.\",\n",
    "    \"it is false that {sentence}.\",\n",
    "]\n",
    "\n",
    "# strip and lower case\n",
    "def lowerall(p):\n",
    "    p = p.lower()\n",
    "    return p\n",
    "\n",
    "def sal(p):\n",
    "    p = p.strip(\" .\")\n",
    "    p = lowerall(p)\n",
    "    return p\n",
    "\n",
    "def negation(p):\n",
    "    t = random.choice(templates_negation)\n",
    "    p = t.format(sentence=sal(p))\n",
    "    return p\n",
    "\n",
    "def conditional(antecedent,consequent):\n",
    "    t = random.choice(templates_conditional)\n",
    "    p = t.format(antecent=sal(antecedent),consequent=sal(consequent))\n",
    "    return p"
   ]
  },
  {
   "cell_type": "code",
   "execution_count": 28,
   "metadata": {},
   "outputs": [
    {
     "data": {
      "text/plain": [
       "'presuming peter is green, it is false that the kid is swimming.'"
      ]
     },
     "execution_count": 28,
     "metadata": {},
     "output_type": "execute_result"
    }
   ],
   "source": [
    "conditional(\"Peter is green.\", negation(\"The kid is swimming.\"))"
   ]
  },
  {
   "cell_type": "code",
   "execution_count": 38,
   "metadata": {},
   "outputs": [],
   "source": [
    "# register filters\n",
    "env.filters['lowerall'] = lowerall\n",
    "env.filters['negation'] = negation\n",
    "env.filters['conditional'] = conditional"
   ]
  },
  {
   "cell_type": "code",
   "execution_count": 95,
   "metadata": {},
   "outputs": [],
   "source": [
    "from dataclasses import dataclass, field\n",
    "\n",
    "@dataclass\n",
    "class eSNLIConfiguration():\n",
    "    label:str\n",
    "    argdown_template_path:str = \"esnli/argdown_generic.txt\"\n",
    "    scheme_name:str = \"modus ponens\"\n",
    "    formal_scheme:List = field(default_factory=lambda: [\"{p}\",\"{p} -> {q}\", \"{q}\"])\n",
    "    placeholders:Dict = field(default_factory=lambda: {'p':\"{premise}\", \"q\":\"{hypothesis}\"})\n",
    "    nl_scheme:List = field(default_factory=lambda: [\"{{ premise }}\", \"{{ premise | conditional(hypothesis) }}\", \"{{ hypothesis }}\"]) # Jinja templates\n"
   ]
  },
  {
   "cell_type": "code",
   "execution_count": 97,
   "metadata": {},
   "outputs": [
    {
     "data": {
      "text/plain": [
       "['{p}', '{p} -> {q}', '{q}']"
      ]
     },
     "execution_count": 97,
     "metadata": {},
     "output_type": "execute_result"
    }
   ],
   "source": [
    "conf = eSNLIConfiguration(label=\"entailment\")\n",
    "conf.formal_scheme"
   ]
  },
  {
   "cell_type": "code",
   "execution_count": 89,
   "metadata": {},
   "outputs": [],
   "source": [
    "configurations = [\n",
    "    eSNLIConfiguration(\n",
    "        label=\"entailment\",\n",
    "        scheme_name = \"modus ponens\",\n",
    "        formal_scheme = [\"{p}\",\"{p} -> {q}\", \"{q}\"],\n",
    "        nl_scheme = [\"{{ premise | lower }}\", \"{{ premise | conditional(hypothesis) }}\", \"{{ hypothesis | lower }}\"],\n",
    "        placeholders = {'p':\"{premise}\", \"q\":\"{hypothesis}\"},\n",
    "    )\n",
    "]"
   ]
  },
  {
   "cell_type": "code",
   "execution_count": 15,
   "metadata": {},
   "outputs": [
    {
     "data": {
      "text/plain": [
       "'hello you'"
      ]
     },
     "execution_count": 15,
     "metadata": {},
     "output_type": "execute_result"
    }
   ],
   "source": [
    "t = \"hello\"\n",
    "t += \" you\"\n",
    "t"
   ]
  },
  {
   "cell_type": "code",
   "execution_count": 90,
   "metadata": {},
   "outputs": [
    {
     "data": {
      "text/plain": [
       "{'premise': 'This church choir sings to the masses as they sing joyous songs from the book at a church.',\n",
       " 'hypothesis': 'The church is filled with song.'}"
      ]
     },
     "execution_count": 90,
     "metadata": {},
     "output_type": "execute_result"
    }
   ],
   "source": [
    "data={\n",
    " \"premise\":\"This church choir sings to the masses as they sing joyous songs from the book at a church.\",\n",
    " \"hypothesis\":\"The church is filled with song.\"\n",
    "}\n",
    "data"
   ]
  },
  {
   "cell_type": "code",
   "execution_count": 92,
   "metadata": {},
   "outputs": [
    {
     "name": "stdout",
     "output_type": "stream",
     "text": [
      "{'p': 'This church choir sings to the masses as they sing joyous songs from the book at a church.', 'q': 'The church is filled with song.'}\n",
      "['this church choir sings to the masses as they sing joyous songs from the book at a church.', 'the church is filled with song provided this church choir sings to the masses as they sing joyous songs from the book at a church.', 'the church is filled with song.']\n"
     ]
    }
   ],
   "source": [
    "conf = configurations[0]\n",
    "print({k:v.format(**data) for k,v in conf.placeholders.items()})\n",
    "argument_list=[env.from_string(t).render(data) for t in conf.nl_scheme]\n",
    "print(argument_list)"
   ]
  },
  {
   "cell_type": "code",
   "execution_count": 94,
   "metadata": {},
   "outputs": [
    {
     "name": "stdout",
     "output_type": "stream",
     "text": [
      "(1) this church choir sings to the masses as they sing joyous songs from the book at a church.\n",
      "(2) the church is filled with song provided this church choir sings to the masses as they sing joyous songs from the book at a church.\n",
      "--\n",
      "with modus ponens from (1) (2)\n",
      "--\n",
      "(3) the church is filled with song.\n"
     ]
    }
   ],
   "source": [
    "template = env.get_template(\"esnli/argdown_generic.txt\")\n",
    "print(template.render(premise1=argument_list[0],premise2=argument_list[1],conclusion=argument_list[-1],scheme=conf.scheme_name))"
   ]
  },
  {
   "cell_type": "code",
   "execution_count": 52,
   "metadata": {},
   "outputs": [
    {
     "name": "stdout",
     "output_type": "stream",
     "text": [
      "(1) the church is filled with song.\n",
      "(2) presuming this church choir sings to the masses as they sing joyous songs from the book at a church, it is not the case that the church is filled with song.\n",
      "--\n",
      "with modus tollens from (1) (2)\n",
      "--\n",
      "(3) it is wrong that this church choir sings to the masses as they sing joyous songs from the book at a church.\n"
     ]
    }
   ],
   "source": [
    "print(template.render(premise=\"This church choir sings to the masses as they sing joyous songs from the book at a church.\", hypothesis=\"The church is filled with song.\"))"
   ]
  },
  {
   "cell_type": "code",
   "execution_count": null,
   "metadata": {},
   "outputs": [],
   "source": []
  }
 ],
 "metadata": {
  "interpreter": {
   "hash": "5ce90dce303b5f6331b9c0471b3035f0729f568d9332947b936c8ae608b1dab2"
  },
  "kernelspec": {
   "display_name": "Python 3.8.12 64-bit (conda)",
   "language": "python",
   "name": "python3"
  },
  "language_info": {
   "codemirror_mode": {
    "name": "ipython",
    "version": 3
   },
   "file_extension": ".py",
   "mimetype": "text/x-python",
   "name": "python",
   "nbconvert_exporter": "python",
   "pygments_lexer": "ipython3",
   "version": "3.8.12"
  },
  "orig_nbformat": 4
 },
 "nbformat": 4,
 "nbformat_minor": 2
}
